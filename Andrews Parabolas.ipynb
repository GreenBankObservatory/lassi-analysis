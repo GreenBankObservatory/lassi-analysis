{
 "cells": [
  {
   "cell_type": "code",
   "execution_count": 1,
   "metadata": {},
   "outputs": [],
   "source": [
    "%matplotlib notebook\n",
    "import matplotlib.pylab as plt\n",
    "from mpl_toolkits.mplot3d import axes3d, Axes3D\n",
    "import numpy as np\n",
    "from rotate import *\n"
   ]
  },
  {
   "cell_type": "code",
   "execution_count": 2,
   "metadata": {},
   "outputs": [],
   "source": [
    "# we'll go back to the funtion we are fitting for to just be a parabola\n",
    "from scipy.optimize import least_squares\n",
    "\n",
    "def fun(coeffs, xdata, ydata):\n",
    "    f = coeffs[0]\n",
    "    v1x = coeffs[1]\n",
    "    v1y = coeffs[2]\n",
    "    v2 = coeffs[3]\n",
    "    #aroundX = coeffs[4]\n",
    "    #aroundY = coeffs[5]\n",
    "    #return  (1 / (4.*f))*(xdata - v1x)**2 + (1 / (4.*f))*(ydata - v1y)**2 + v2\n",
    "    hr = 30.\n",
    "    r2 = (xdata - v1x)**2 + (ydata - v1y)**2\n",
    "    return ( 1 / (4.*f) ) * r2 * ( hr**2 > r2 )  + v2\n",
    "\n",
    "# and we will define a new errfun to fit this data\n",
    "def errfun(coeffs, xdata, ydata, zdata):\n",
    "    \n",
    "    # rotate the original data first!\n",
    "    xr, yr, zr = rotateXY(xdata, ydata, zdata, coeffs[4], coeffs[5])\n",
    "    #xr = xdata\n",
    "    #yr = ydata\n",
    "    #zr = zdata\n",
    "    z = fun(coeffs, xr, yr)\n",
    "    # now what we are trying to minimize is the difference between the rotated \n",
    "    # input data and a parabola in the same frame\n",
    "    return zr - z"
   ]
  },
  {
   "cell_type": "code",
   "execution_count": 3,
   "metadata": {},
   "outputs": [
    {
     "name": "stdout",
     "output_type": "stream",
     "text": [
      "fit: [ 5.00000000e+00  1.78563669e-15 -3.86264660e-16  1.00000000e+01\n",
      " -1.57079633e+00  4.10374082e-17]\n",
      "True `xtol` termination condition is satisfied. 7\n"
     ]
    }
   ],
   "source": [
    "##########################\n",
    "#     Create  Data       #\n",
    "##########################\n",
    "xs = np.linspace(-20, 20)\n",
    "ys = np.linspace(-20, 20)\n",
    "\n",
    "xs2d, ys2d = np.meshgrid(xs, ys)\n",
    "\n",
    "f = 5.0\n",
    "v1x = 0.0\n",
    "v1y = 0.0\n",
    "v2 = 10.0\n",
    "xRot = np.pi/2\n",
    "yRot = 0.1\n",
    "\n",
    "zs2d = (1 / (4.*f))*(xs2d  - v1x)**2 +  (1 / (4.*f))*(ys2d - v1y)**2 + v2\n",
    "xdata, ydata, zdata = rotateXY(xs2d, ys2d, zs2d, xRot, yRot)\n",
    "\n",
    "##########################\n",
    "#     Create  Fit        #\n",
    "##########################\n",
    "coeffs = [f, v1x, v1y, v2, -xRot, -yRot]\n",
    "inf = np.inf\n",
    "pi2 = 2*np.pi\n",
    "b1 = [-inf, -inf, -inf, -inf, -pi2, -pi2]\n",
    "b2 = [inf, inf, inf, inf, pi2, pi2]\n",
    "bounds = (b1, b2)\n",
    "r = least_squares(errfun, coeffs, args=(xdata.flatten(), ydata.flatten(), zdata.flatten()),\n",
    "                      bounds=bounds,\n",
    "                      method='trf',\n",
    "                      max_nfev=100000,\n",
    "                      gtol=1e-15,\n",
    "                      ftol=1e-15,\n",
    "                      xtol=1e-15)\n",
    "# Look into robust method (loss='soft_l1', f_scale=0.1)\n",
    "print \"fit:\", r.x\n",
    "print r.success, r.message, r.nfev"
   ]
  },
  {
   "cell_type": "code",
   "execution_count": null,
   "metadata": {},
   "outputs": [],
   "source": []
  }
 ],
 "metadata": {
  "kernelspec": {
   "display_name": "Python 2",
   "language": "python",
   "name": "python2"
  },
  "language_info": {
   "codemirror_mode": {
    "name": "ipython",
    "version": 2
   },
   "file_extension": ".py",
   "mimetype": "text/x-python",
   "name": "python",
   "nbconvert_exporter": "python",
   "pygments_lexer": "ipython2",
   "version": "2.7.5"
  }
 },
 "nbformat": 4,
 "nbformat_minor": 2
}
