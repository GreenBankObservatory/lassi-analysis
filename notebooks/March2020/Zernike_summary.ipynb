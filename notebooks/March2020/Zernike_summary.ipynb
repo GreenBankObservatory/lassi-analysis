{
 "cells": [
  {
   "cell_type": "code",
   "execution_count": 1,
   "metadata": {},
   "outputs": [],
   "source": [
    "%matplotlib notebook\n",
    "%load_ext autoreload\n",
    "%autoreload 2"
   ]
  },
  {
   "cell_type": "code",
   "execution_count": 2,
   "metadata": {},
   "outputs": [],
   "source": [
    "import glob\n",
    "\n",
    "import numpy as np\n",
    "import pylab as plt\n",
    "\n",
    "from scipy.stats import norm\n",
    "from scipy.optimize import curve_fit\n",
    "from astropy.stats import sigma_clip\n",
    "\n",
    "from astropy.io import fits\n",
    "from  natsort import natsorted\n",
    "\n",
    "import sys\n",
    "sys.path.append('/home/scratch/psalas/LASSI/lassi-analysis_v2')\n",
    "from analyzeActiveSurface import processActiveSurfaceFITSPair"
   ]
  },
  {
   "cell_type": "code",
   "execution_count": 3,
   "metadata": {},
   "outputs": [],
   "source": [
    "scan0 = 16\n",
    "scanf = 125\n",
    "n_zern = 37\n",
    "path = \"/home/gbtdata/TLASSI_200315\""
   ]
  },
  {
   "cell_type": "code",
   "execution_count": 4,
   "metadata": {},
   "outputs": [],
   "source": [
    "# Use scan 16 up to 125.\n",
    "# Scans 126 onwards are two reflector data.\n",
    "hdu = fits.open(\"{0}/ScanLog.fits\".format(path))\n",
    "scanArr = hdu[1].data"
   ]
  },
  {
   "cell_type": "code",
   "execution_count": 5,
   "metadata": {},
   "outputs": [],
   "source": [
    "idx0 = np.where(scanArr['SCAN'] == scan0)[0]\n",
    "idxf = np.where(scanArr['SCAN'] == scanf)[0]"
   ]
  },
  {
   "cell_type": "code",
   "execution_count": 6,
   "metadata": {},
   "outputs": [],
   "source": [
    "zern_files = natsorted(glob.glob(\"{0}/LASSI/*.zernike.fits\".format(path)))[3:]"
   ]
  },
  {
   "cell_type": "code",
   "execution_count": 7,
   "metadata": {
    "scrolled": true
   },
   "outputs": [
    {
     "name": "stdout",
     "output_type": "stream",
     "text": [
      "ActiveSurfaceMgr/2020_03_16_02:28:17.fits ActiveSurfaceMgr/2020_03_16_02:20:53.fits\n",
      "ActiveSurfaceMgr/2020_03_16_03:02:38.fits ActiveSurfaceMgr/2020_03_16_02:54:45.fits\n",
      "ActiveSurfaceMgr/2020_03_16_03:27:11.fits ActiveSurfaceMgr/2020_03_16_03:19:37.fits\n",
      "ActiveSurfaceMgr/2020_03_16_03:51:48.fits ActiveSurfaceMgr/2020_03_16_03:44:12.fits\n",
      "ActiveSurfaceMgr/2020_03_16_04:16:26.fits ActiveSurfaceMgr/2020_03_16_04:08:53.fits\n",
      "ActiveSurfaceMgr/2020_03_16_04:40:56.fits ActiveSurfaceMgr/2020_03_16_04:33:20.fits\n",
      "ActiveSurfaceMgr/2020_03_16_05:05:30.fits ActiveSurfaceMgr/2020_03_16_04:57:50.fits\n",
      "ActiveSurfaceMgr/2020_03_16_05:29:51.fits ActiveSurfaceMgr/2020_03_16_05:22:11.fits\n",
      "ActiveSurfaceMgr/2020_03_16_05:54:22.fits ActiveSurfaceMgr/2020_03_16_05:46:56.fits\n",
      "ActiveSurfaceMgr/2020_03_16_06:18:40.fits ActiveSurfaceMgr/2020_03_16_06:11:07.fits\n",
      "ActiveSurfaceMgr/2020_03_16_06:43:03.fits ActiveSurfaceMgr/2020_03_16_06:35:29.fits\n",
      "ActiveSurfaceMgr/2020_03_16_07:07:35.fits ActiveSurfaceMgr/2020_03_16_07:00:07.fits\n",
      "ActiveSurfaceMgr/2020_03_16_07:31:54.fits ActiveSurfaceMgr/2020_03_16_07:24:26.fits\n",
      "ActiveSurfaceMgr/2020_03_16_07:56:00.fits ActiveSurfaceMgr/2020_03_16_07:48:33.fits\n",
      "ActiveSurfaceMgr/2020_03_16_08:20:03.fits ActiveSurfaceMgr/2020_03_16_08:12:37.fits\n",
      "ActiveSurfaceMgr/2020_03_16_08:44:16.fits ActiveSurfaceMgr/2020_03_16_08:36:50.fits\n",
      "ActiveSurfaceMgr/2020_03_16_09:09:00.fits ActiveSurfaceMgr/2020_03_16_09:01:22.fits\n"
     ]
    }
   ],
   "source": [
    "z_idx = np.zeros((len(zern_files)), dtype=np.int)\n",
    "scans = np.zeros((len(zern_files)), dtype=np.int)\n",
    "\n",
    "z_as = np.zeros((len(zern_files), n_zern-1), dtype=np.float)\n",
    "z_lassi = np.zeros((len(zern_files), n_zern), dtype=np.float)\n",
    "z_as_obs = np.zeros((len(zern_files), n_zern), dtype=np.float)\n",
    "\n",
    "for i, zf in enumerate(zern_files):\n",
    "    \n",
    "    hdu = fits.open(zf)\n",
    "    head = hdu[0].header\n",
    "    z_lassi[i] = hdu[2].data['value']\n",
    "    scans[i] = head['MC_SCAN']\n",
    "    \n",
    "    idx = np.where(scanArr['SCAN'] == scans[i])[0][0]\n",
    "    idx_as = idx - 3\n",
    "\n",
    "    # Load the AS fits file for the signal scan.\n",
    "    as_file = file = '/'.join(scanArr[idx_as]['FILEPATH'].split('/')[-2:])\n",
    "    hdu = fits.open(\"{0}/{1}\".format(path, as_file))\n",
    "    z_as[i] = hdu[1].data['value']\n",
    "    \n",
    "    # The AS Zernike contents start at Z1, not Z0.\n",
    "    # The LASSI Zernike start at Z0.\n",
    "    z_idx[i] = np.where(z_as[i] != 0)[0]\n",
    "    \n",
    "    as_file_sig = '/'.join(scanArr[idx_as]['FILEPATH'].split('/')[-2:])\n",
    "    as_file_ref = '/'.join(scanArr[idx_as - 6]['FILEPATH'].split('/')[-2:])\n",
    "    print(as_file_sig, as_file_ref)\n",
    "    aas, aar, fitlist = processActiveSurfaceFITSPair(\"{0}/{1}\".format(path, as_file_ref), \n",
    "                                                     \"{0}/{1}\".format(path, as_file_sig), \n",
    "                                                      column='ABSOLUTE', filterDisabled=True, \n",
    "                                                      verbose=False, plot=False)\n",
    "    z_as_obs[i] = fitlist"
   ]
  },
  {
   "cell_type": "code",
   "execution_count": 8,
   "metadata": {},
   "outputs": [],
   "source": [
    "z_in = np.zeros(len(zern_files), dtype=np.float)\n",
    "z_in_as = np.zeros(len(zern_files), dtype=np.float)\n",
    "z_obs = np.zeros(len(zern_files), dtype=np.float)\n",
    "\n",
    "for i in range(len(zern_files)):\n",
    "    z_in[i] = z_as[i][z_idx[i]]\n",
    "    z_in_as[i] = z_as_obs[i][z_idx[i]+1]*1e6\n",
    "    z_obs[i] = z_lassi[i][z_idx[i]+1]"
   ]
  },
  {
   "cell_type": "code",
   "execution_count": 10,
   "metadata": {},
   "outputs": [
    {
     "name": "stdout",
     "output_type": "stream",
     "text": [
      "70.0 4 2 izv=74.1 mean=61.4   -17.2 %   diff=-12.7\n",
      "70.0 7 2 izv=67.7 mean=88.2   30.2 %   diff=20.5\n",
      "70.0 13 1 izv=54.7 mean=18.8   -65.6 %   diff=-35.9\n",
      "150.0 4 2 izv=177.3 mean=325.9   83.8 %   diff=148.6\n",
      "150.0 7 2 izv=158.0 mean=240.1   52.0 %   diff=82.1\n",
      "150.0 13 1 izv=165.1 mean=171.2   3.7 %   diff=6.1\n",
      "500.0 4 3 izv=510.2 mean=472.9   -7.3 %   diff=-37.3\n",
      "500.0 7 2 izv=527.7 mean=498.6   -5.5 %   diff=-29.1\n",
      "500.0 13 2 izv=520.7 mean=455.0   -12.6 %   diff=-65.6\n"
     ]
    }
   ],
   "source": [
    "# Compute statistics per coefficient, per polynomial\n",
    "zobs_x = np.unique(z_in)\n",
    "uiz = np.unique(z_idx)\n",
    "\n",
    "zobs_mu_vz = np.zeros((len(zobs_x),len(uiz)), dtype=np.float)\n",
    "zobs_sigma_vz = np.zeros((len(zobs_x),len(uiz)), dtype=np.float)\n",
    "zobs_stds_vz = np.zeros((len(zobs_x),len(uiz)), dtype=np.float)\n",
    "zobs_means_vz = np.zeros((len(zobs_x),len(uiz)), dtype=np.float)\n",
    "zobs_pdiff_vz = np.zeros((len(zobs_x),len(uiz)), dtype=np.float)\n",
    "zobs_diff = np.zeros((len(zobs_x),len(uiz)), dtype=np.float)\n",
    "\n",
    "for i,izv_ in enumerate(zobs_x):\n",
    "    for j,iz_ in enumerate(uiz):\n",
    "        \n",
    "        mask = (z_in == izv_) & (z_idx == iz_)\n",
    "        \n",
    "        izvas = izv_\n",
    "        izvas = abs(np.nanmean(z_in_as[mask]))\n",
    "        \n",
    "        zobs_stds_vz[i,j] = np.nanstd(z_obs[mask])\n",
    "        zobs_means_vz[i,j] = np.nanmean(z_obs[mask])\n",
    "        zobs_pdiff_vz[i,j] = (zobs_means_vz[i,j] - izvas)/izvas\n",
    "        zobs_diff[i,j] = (zobs_means_vz[i,j] - izvas)\n",
    "        print(izv_, iz_+1, mask.sum(), \n",
    "              \"izv={0:.1f}\".format(izvas), \n",
    "              'mean={0:.1f}'.format(zobs_means_vz[i,j]), \n",
    "              \"  {0:.1f} %  \".format(zobs_pdiff_vz[i,j]*100.),\n",
    "              'diff={0:.1f}'.format(zobs_diff[i,j]),)"
   ]
  },
  {
   "cell_type": "code",
   "execution_count": 30,
   "metadata": {},
   "outputs": [
    {
     "name": "stdout",
     "output_type": "stream",
     "text": [
      "[13 13]\n",
      "[520.94659528 520.36996366] 520.6582794672106\n",
      "[472.12939728 437.89174364] 455.01057045663003\n",
      "[ -9.3708642  -15.84991944]\n",
      "[ 63 117]\n",
      "(array([ 7, 16]),)\n",
      "('2020-03-16T05:30:05', 63, './TLASSI_200315/LASSI/2020_03_16_05:30:05.fits')\n",
      "('2020-03-16T09:09:14', 117, './TLASSI_200315/LASSI/2020_03_16_09:09:14.fits')\n"
     ]
    }
   ],
   "source": [
    "mask = (z_idx+1 == 13) & (z_in == 500.)\n",
    "print(z_idx[mask]+1)\n",
    "print(z_in_as[mask], abs(z_in_as[mask]).mean())\n",
    "print(z_obs[mask], z_obs[mask].mean())\n",
    "print((z_obs[mask]-abs(z_in_as[mask]))/abs(z_in_as[mask])*100.) \n",
    "print(scans[mask])\n",
    "print(np.where(mask==True))\n",
    "for i in range(mask.sum()):\n",
    "    print(scanArr[np.where(scans[mask][i] == scanArr['SCAN'])[0][0]])"
   ]
  },
  {
   "cell_type": "code",
   "execution_count": 40,
   "metadata": {},
   "outputs": [
    {
     "name": "stdout",
     "output_type": "stream",
     "text": [
      "-4.547184657279264\n",
      "-5.793424334979922\n",
      "76.28113839792523\n",
      "76.67774882112755\n"
     ]
    }
   ],
   "source": [
    "# Z13=500\n",
    "print(np.mean(((528.-520.94659528)/520.94659528*100., \n",
    "               (466.-520.36996366)/520.36996366*100.)))\n",
    "print(np.mean(((501.-520.94659528)/520.94659528*100., \n",
    "               (480.-520.36996366)/520.36996366*100.)))\n",
    "# Z4=150\n",
    "print(np.mean(((298.-162.51285227)/162.51285227*100., \n",
    "               (325.-192.08927394)/192.08927394*100.)))\n",
    "# Z7=150\n",
    "print(np.mean(((248.-142.22445901)/142.22445901*100., \n",
    "               (311.-173.759286)/173.759286*100.)))"
   ]
  },
  {
   "cell_type": "code",
   "execution_count": null,
   "metadata": {},
   "outputs": [],
   "source": []
  }
 ],
 "metadata": {
  "kernelspec": {
   "display_name": "Python 3",
   "language": "python",
   "name": "python3"
  },
  "language_info": {
   "codemirror_mode": {
    "name": "ipython",
    "version": 3
   },
   "file_extension": ".py",
   "mimetype": "text/x-python",
   "name": "python",
   "nbconvert_exporter": "python",
   "pygments_lexer": "ipython3",
   "version": "3.7.5"
  }
 },
 "nbformat": 4,
 "nbformat_minor": 2
}
