{
 "cells": [
  {
   "cell_type": "code",
   "execution_count": 1,
   "metadata": {},
   "outputs": [],
   "source": [
    "%matplotlib notebook\n",
    "%load_ext autoreload\n",
    "%autoreload 2"
   ]
  },
  {
   "cell_type": "code",
   "execution_count": 2,
   "metadata": {},
   "outputs": [],
   "source": [
    "from astropy.io import fits"
   ]
  },
  {
   "cell_type": "code",
   "execution_count": 11,
   "metadata": {},
   "outputs": [
    {
     "data": {
      "text/plain": [
       "FITS_rec([( 0,     0.        ), ( 1,  -173.74028419),\n",
       "          ( 2,    53.761614  ), ( 3,  -408.08918872),\n",
       "          ( 4,   368.62151888), ( 5,  -230.78786041),\n",
       "          ( 6,   -17.94658687), ( 7,    69.66359864),\n",
       "          ( 8,  -184.37495975), ( 9,  -545.98502533),\n",
       "          (10,   593.23446006), (11,  -771.34892155),\n",
       "          (12,   618.47001803), (13,  -320.30070743),\n",
       "          (14,  -145.77929407), (15,   184.93507405),\n",
       "          (16,  -169.5538958 ), (17,   186.23164596),\n",
       "          (18,  -171.31939667), (19,  -669.60965911),\n",
       "          (20,   815.89267064), (21,  -817.47308183),\n",
       "          (22,   855.3389127 ), (23, -1053.96614272),\n",
       "          (24,   743.32278518), (25,  -388.9024404 ),\n",
       "          (26,  -254.90857143), (27,   300.53652834),\n",
       "          (28,    34.46112026), (29,  -369.18132133),\n",
       "          (30,  -337.78691549), (31,   309.59281342),\n",
       "          (32,  -227.97816767), (33,  -747.4060519 ),\n",
       "          (34,   939.12432381), (35, -1138.07015209),\n",
       "          (36,  1081.37914078)],\n",
       "         dtype=(numpy.record, [('coef', '>i2'), ('value', '>f8')]))"
      ]
     },
     "execution_count": 11,
     "metadata": {},
     "output_type": "execute_result"
    }
   ],
   "source": [
    "hdu = fits.open(\"/home/gbtdata/TLASSI_200315/LASSI/2020_03_16_01:04:36.zernike.fits\")\n",
    "hdu[2].data"
   ]
  },
  {
   "cell_type": "code",
   "execution_count": 10,
   "metadata": {},
   "outputs": [
    {
     "data": {
      "text/plain": [
       "FITS_rec([('Z1',  0.), ('Z2',  0.), ('Z3',  0.), ('Z4',  0.), ('Z5',  0.),\n",
       "          ('Z6',  0.), ('Z7',  0.), ('Z8',  0.), ('Z9',  0.),\n",
       "          ('Z10', 70.), ('Z11',  0.), ('Z12',  0.), ('Z13',  0.),\n",
       "          ('Z14',  0.), ('Z15',  0.), ('Z16',  0.), ('Z17',  0.),\n",
       "          ('Z18',  0.), ('Z19',  0.), ('Z20',  0.), ('Z21',  0.),\n",
       "          ('Z22',  0.), ('Z23',  0.), ('Z24',  0.), ('Z25',  0.),\n",
       "          ('Z26',  0.), ('Z27',  0.), ('Z28',  0.), ('Z29',  0.),\n",
       "          ('Z30',  0.), ('Z31',  0.), ('Z32',  0.), ('Z33',  0.),\n",
       "          ('Z34',  0.), ('Z35',  0.), ('Z36',  0.)],\n",
       "         dtype=(numpy.record, [('Name', 'S4'), ('Value', '>f8')]))"
      ]
     },
     "execution_count": 10,
     "metadata": {},
     "output_type": "execute_result"
    }
   ],
   "source": [
    "hdu = fits.open(\"/home/gbtdata/TLASSI_200315/ActiveSurfaceMgr/2020_03_16_01:04:23.fits\")\n",
    "hdu[1].data"
   ]
  },
  {
   "cell_type": "code",
   "execution_count": 12,
   "metadata": {},
   "outputs": [
    {
     "data": {
      "text/plain": [
       "SIMPLE  =                    T / file does conform to FITS standard             \n",
       "BITPIX  =                    8 / number of bits per data pixel                  \n",
       "NAXIS   =                    0 / number of data axes                            \n",
       "EXTEND  =                    T / FITS dataset may contain extensions            \n",
       "COMMENT   FITS (Flexible Image Transport System) format is defined in 'Astronomy\n",
       "COMMENT   and Astrophysics', volume 376, page 359; bibcode: 2001A&A...376..359H \n",
       "ORIGIN  = 'NRAO Green Bank'    /                                                \n",
       "INSTRUME= 'LASSI   '           / device or program of origin                    \n",
       "GBTMCVER= '19.4    '           / telescope control software release             \n",
       "FITSVER = '2.1     '           / FITS definition version for this device        \n",
       "DATEBLD = 'DATEBLD  goes  here' / time program was linked                       \n",
       "SIMULATE=                    0 / Is the instrument in simulate mode?            \n",
       "DATE-OBS= '2020-03-16T01:12:16' / Manager parameter startTime                   \n",
       "TIMESYS = 'UTC     '           / time scale specification for DATE-OBS          \n",
       "TELESCOP= 'NRAO_GBT'           / Green Bank Telescope (Robert C. Byrd 100m)     \n",
       "OBJECT  = 'SDSS0743'           / Manager parameter source                       \n",
       "PROJID  = 'TLASSI_200315'      / Manager parameter projectId                    \n",
       "SCAN    =                   13 / Manager parameter scanNumber                   \n",
       "REFSCAN =                    1 / Is this a reference scan?                      \n",
       "RSCANNUM=                    9 / Scan number of reference scan                  \n",
       "TLSPROJE= 'TLASSI_200315'      / TL Scanner project name                        \n",
       "TLSSCANN=                   13 / TL Scanner project scan number                 \n",
       "TLSAZFOV=          6.28319E+00 / scan width in degrees                          \n",
       "TLSELFOV=          1.57173E+00 / scan height in degrees                         \n",
       "TLSAZCTR=         -1.57080E+00 / instrument scan center azimuth in degrees      \n",
       "TLSELCTR=          7.84542E-01 / instrument scan center elevation in degrees    \n",
       "TLSRESOL= '3.1mm @ 10m'        / TL Scanner resolution                          \n",
       "TLSSENSI= 'Normal  '           / TL Scanner sensitivity setting                 \n",
       "TLSSMODE= 'Speed   '           / TL scanner (EDM) mode setting                  \n",
       "TLSQUALI=             27062368 / TL scanner quality setting                     \n",
       "TLSSERIA=              1851828 / TL Scanner serial number                       "
      ]
     },
     "execution_count": 12,
     "metadata": {},
     "output_type": "execute_result"
    }
   ],
   "source": [
    "hdu = fits.open(\"/home/gbtdata/TLASSI_200315/LASSI/2020_03_16_01:12:16.fits\")\n",
    "hdu[0].header"
   ]
  },
  {
   "cell_type": "code",
   "execution_count": 13,
   "metadata": {},
   "outputs": [
    {
     "data": {
      "text/plain": [
       "SIMPLE  =                    T / file does conform to FITS standard             \n",
       "BITPIX  =                    8 / number of bits per data pixel                  \n",
       "NAXIS   =                    0 / number of data axes                            \n",
       "EXTEND  =                    T / FITS dataset may contain extensions            \n",
       "COMMENT   FITS (Flexible Image Transport System) format is defined in 'Astronomy\n",
       "COMMENT   and Astrophysics', volume 376, page 359; bibcode: 2001A&A...376..359H \n",
       "ORIGIN  = 'NRAO Green Bank'    /                                                \n",
       "INSTRUME= 'LASSI   '           / device or program of origin                    \n",
       "GBTMCVER= '19.4    '           / telescope control software release             \n",
       "FITSVER = '2.1     '           / FITS definition version for this device        \n",
       "DATEBLD = 'DATEBLD  goes  here' / time program was linked                       \n",
       "SIMULATE=                    0 / Is the instrument in simulate mode?            \n",
       "DATE-OBS= '2020-03-16T01:04:36' / Manager parameter startTime                   \n",
       "TIMESYS = 'UTC     '           / time scale specification for DATE-OBS          \n",
       "TELESCOP= 'NRAO_GBT'           / Green Bank Telescope (Robert C. Byrd 100m)     \n",
       "OBJECT  = 'SDSS0743'           / Manager parameter source                       \n",
       "PROJID  = 'TLASSI_200315'      / Manager parameter projectId                    \n",
       "SCAN    =                   11 / Manager parameter scanNumber                   \n",
       "REFSCAN =                    0 / Is this a reference scan?                      \n",
       "RSCANNUM=                    9 / Scan number of reference scan                  \n",
       "TLSPROJE= 'TLASSI_200315'      / TL Scanner project name                        \n",
       "TLSSCANN=                   11 / TL Scanner project scan number                 \n",
       "TLSAZFOV=          6.28319E+00 / scan width in degrees                          \n",
       "TLSELFOV=          1.57455E+00 / scan height in degrees                         \n",
       "TLSAZCTR=         -1.57080E+00 / instrument scan center azimuth in degrees      \n",
       "TLSELCTR=          7.83142E-01 / instrument scan center elevation in degrees    \n",
       "TLSRESOL= '12.5mm @ 10m'       / TL Scanner resolution                          \n",
       "TLSSENSI= 'Normal  '           / TL Scanner sensitivity setting                 \n",
       "TLSSMODE= 'Speed   '           / TL scanner (EDM) mode setting                  \n",
       "TLSQUALI=             27062368 / TL scanner quality setting                     \n",
       "TLSSERIA=              1851828 / TL Scanner serial number                       "
      ]
     },
     "execution_count": 13,
     "metadata": {},
     "output_type": "execute_result"
    }
   ],
   "source": [
    "hdu = fits.open(\"/home/gbtdata/TLASSI_200315/LASSI/2020_03_16_01:04:36.fits\")\n",
    "hdu[0].header"
   ]
  },
  {
   "cell_type": "code",
   "execution_count": 14,
   "metadata": {},
   "outputs": [
    {
     "data": {
      "text/plain": [
       "SIMPLE  =                    T / file does conform to FITS standard             \n",
       "BITPIX  =                    8 / number of bits per data pixel                  \n",
       "NAXIS   =                    0 / number of data axes                            \n",
       "EXTEND  =                    T / FITS dataset may contain extensions            \n",
       "COMMENT   FITS (Flexible Image Transport System) format is defined in 'Astronomy\n",
       "COMMENT   and Astrophysics', volume 376, page 359; bibcode: 2001A&A...376..359H \n",
       "ORIGIN  = 'NRAO Green Bank'    /                                                \n",
       "INSTRUME= 'LASSI   '           / device or program of origin                    \n",
       "GBTMCVER= '19.4    '           / telescope control software release             \n",
       "FITSVER = '2.1     '           / FITS definition version for this device        \n",
       "DATEBLD = 'DATEBLD  goes  here' / time program was linked                       \n",
       "SIMULATE=                    0 / Is the instrument in simulate mode?            \n",
       "DATE-OBS= '2020-03-16T02:28:31' / Manager parameter startTime                   \n",
       "TIMESYS = 'UTC     '           / time scale specification for DATE-OBS          \n",
       "TELESCOP= 'NRAO_GBT'           / Green Bank Telescope (Robert C. Byrd 100m)     \n",
       "OBJECT  = 'SDSS0743'           / Manager parameter source                       \n",
       "PROJID  = 'TLASSI_200315'      / Manager parameter projectId                    \n",
       "SCAN    =                   19 / Manager parameter scanNumber                   \n",
       "REFSCAN =                    0 / Is this a reference scan?                      \n",
       "RSCANNUM=                   17 / Scan number of reference scan                  \n",
       "TLSPROJE= 'TLASSI_200315'      / TL Scanner project name                        \n",
       "TLSSCANN=                   19 / TL Scanner project scan number                 \n",
       "TLSAZFOV=          6.28319E+00 / scan width in degrees                          \n",
       "TLSELFOV=          1.57267E+00 / scan height in degrees                         \n",
       "TLSAZCTR=         -1.57080E+00 / instrument scan center azimuth in degrees      \n",
       "TLSELCTR=          7.84069E-01 / instrument scan center elevation in degrees    \n",
       "TLSRESOL= '6.3mm @ 10m'        / TL Scanner resolution                          \n",
       "TLSSENSI= 'Normal  '           / TL Scanner sensitivity setting                 \n",
       "TLSSMODE= 'Speed   '           / TL scanner (EDM) mode setting                  \n",
       "TLSQUALI=                    0 / TL scanner quality setting                     \n",
       "TLSSERIA=              1851828 / TL Scanner serial number                       "
      ]
     },
     "execution_count": 14,
     "metadata": {},
     "output_type": "execute_result"
    }
   ],
   "source": [
    "hdu = fits.open(\"/home/gbtdata/TLASSI_200315/LASSI/2020_03_16_02:28:31.fits\")\n",
    "hdu[0].header"
   ]
  },
  {
   "cell_type": "code",
   "execution_count": 15,
   "metadata": {},
   "outputs": [
    {
     "data": {
      "text/plain": [
       "SIMPLE  =                    T / file does conform to FITS standard             \n",
       "BITPIX  =                    8 / number of bits per data pixel                  \n",
       "NAXIS   =                    0 / number of data axes                            \n",
       "EXTEND  =                    T / FITS dataset may contain extensions            \n",
       "COMMENT   FITS (Flexible Image Transport System) format is defined in 'Astronomy\n",
       "COMMENT   and Astrophysics', volume 376, page 359; bibcode: 2001A&A...376..359H \n",
       "ORIGIN  = 'NRAO Green Bank'    /                                                \n",
       "INSTRUME= 'LASSI   '           / device or program of origin                    \n",
       "GBTMCVER= '19.4    '           / telescope control software release             \n",
       "FITSVER = '2.1     '           / FITS definition version for this device        \n",
       "DATEBLD = 'DATEBLD  goes  here' / time program was linked                       \n",
       "SIMULATE=                    0 / Is the instrument in simulate mode?            \n",
       "DATE-OBS= '2020-03-16T02:38:25' / Manager parameter startTime                   \n",
       "TIMESYS = 'UTC     '           / time scale specification for DATE-OBS          \n",
       "TELESCOP= 'NRAO_GBT'           / Green Bank Telescope (Robert C. Byrd 100m)     \n",
       "OBJECT  = 'SDSS0743'           / Manager parameter source                       \n",
       "PROJID  = 'TLASSI_200315'      / Manager parameter projectId                    \n",
       "SCAN    =                   21 / Manager parameter scanNumber                   \n",
       "REFSCAN =                    1 / Is this a reference scan?                      \n",
       "RSCANNUM=                   17 / Scan number of reference scan                  \n",
       "TLSPROJE= 'TLASSI_200315'      / TL Scanner project name                        \n",
       "TLSSCANN=                   21 / TL Scanner project scan number                 \n",
       "TLSAZFOV=          6.28319E+00 / scan width in degrees                          \n",
       "TLSELFOV=          1.57267E+00 / scan height in degrees                         \n",
       "TLSAZCTR=         -1.57080E+00 / instrument scan center azimuth in degrees      \n",
       "TLSELCTR=          7.84070E-01 / instrument scan center elevation in degrees    \n",
       "TLSRESOL= '6.3mm @ 10m'        / TL Scanner resolution                          \n",
       "TLSSENSI= 'Normal  '           / TL Scanner sensitivity setting                 \n",
       "TLSSMODE= 'Speed   '           / TL scanner (EDM) mode setting                  \n",
       "TLSQUALI=                    0 / TL scanner quality setting                     \n",
       "TLSSERIA=              1851828 / TL Scanner serial number                       "
      ]
     },
     "execution_count": 15,
     "metadata": {},
     "output_type": "execute_result"
    }
   ],
   "source": [
    "hdu = fits.open(\"/home/gbtdata/TLASSI_200315/LASSI/2020_03_16_02:38:25.fits\")\n",
    "hdu[0].header"
   ]
  },
  {
   "cell_type": "code",
   "execution_count": 16,
   "metadata": {},
   "outputs": [
    {
     "data": {
      "text/plain": [
       "FITS_rec([( 0,    0.        ), ( 1,  213.03208133), ( 2,  413.2945699 ),\n",
       "          ( 3,  249.59104314), ( 4,  461.48849564), ( 5,   33.60401547),\n",
       "          ( 6,  239.53720008), ( 7,  -72.95390533), ( 8, -125.73965625),\n",
       "          ( 9,  -49.40609418), (10,  -55.07864134), (11,  143.21403398),\n",
       "          (12,   -6.35424739), (13,  -15.58212591), (14,  -39.85257771),\n",
       "          (15,   25.13239667), (16,  -19.61778983), (17,   27.08106771),\n",
       "          (18,   15.28558871), (19,   25.96849228), (20,   59.62036362),\n",
       "          (21,   64.73219012), (22,  -65.25797107), (23, -115.51459045),\n",
       "          (24, -197.9146768 ), (25,  -90.09027607), (26,  -56.35009693),\n",
       "          (27,  -32.1145165 ), (28,    9.35394068), (29,   28.20083662),\n",
       "          (30,  -24.23181697), (31,   36.06543496), (32, -105.87487259),\n",
       "          (33,  -45.01031943), (34,  -23.93107783), (35,  -66.11651215),\n",
       "          (36,  -32.28199928)],\n",
       "         dtype=(numpy.record, [('coef', '>i2'), ('value', '>f8')]))"
      ]
     },
     "execution_count": 16,
     "metadata": {},
     "output_type": "execute_result"
    }
   ],
   "source": [
    "hdu = fits.open('/home/gbtdata/TLASSI_200315/LASSI/2020_03_16_03:02:51.zernike.fits')\n",
    "hdu[2].data"
   ]
  },
  {
   "cell_type": "code",
   "execution_count": 19,
   "metadata": {},
   "outputs": [
    {
     "data": {
      "text/plain": [
       "SIMPLE  =                    T / file does conform to FITS standard             \n",
       "BITPIX  =                    8 / number of bits per data pixel                  \n",
       "NAXIS   =                    0 / number of data axes                            \n",
       "EXTEND  =                    T / FITS dataset may contain extensions            \n",
       "COMMENT   FITS (Flexible Image Transport System) format is defined in 'Astronomy\n",
       "COMMENT   and Astrophysics', volume 376, page 359; bibcode: 2001A&A...376..359H \n",
       "ORIGIN  = 'NRAO Green Bank'    /                                                \n",
       "INSTRUME= 'LASSI   '           / device or program of origin                    \n",
       "GBTMCVER= '19.4    '           / telescope control software release             \n",
       "FITSVER = '2.1     '           / FITS definition version for this device        \n",
       "DATEBLD = 'DATEBLD  goes  here' / time program was linked                       \n",
       "SIMULATE=                    0 / Is the instrument in simulate mode?            \n",
       "DATE-OBS= '2020-03-16T03:12:22' / Manager parameter startTime                   \n",
       "TIMESYS = 'UTC     '           / time scale specification for DATE-OBS          \n",
       "TELESCOP= 'NRAO_GBT'           / Green Bank Telescope (Robert C. Byrd 100m)     \n",
       "OBJECT  = 'SDSS0743'           / Manager parameter source                       \n",
       "PROJID  = 'TLASSI_200315'      / Manager parameter projectId                    \n",
       "SCAN    =                   29 / Manager parameter scanNumber                   \n",
       "REFSCAN =                    1 / Is this a reference scan?                      \n",
       "RSCANNUM=                   25 / Scan number of reference scan                  \n",
       "TLSPROJE= 'TLASSI_200315'      / TL Scanner project name                        \n",
       "TLSSCANN=                   29 / TL Scanner project scan number                 \n",
       "TLSAZFOV=          6.28319E+00 / scan width in degrees                          \n",
       "TLSELFOV=          1.57267E+00 / scan height in degrees                         \n",
       "TLSAZCTR=         -1.57080E+00 / instrument scan center azimuth in degrees      \n",
       "TLSELCTR=          7.84073E-01 / instrument scan center elevation in degrees    \n",
       "TLSRESOL= '6.3mm @ 10m'        / TL Scanner resolution                          \n",
       "TLSSENSI= 'Normal  '           / TL Scanner sensitivity setting                 \n",
       "TLSSMODE= 'Speed   '           / TL scanner (EDM) mode setting                  \n",
       "TLSQUALI=                   -1 / TL scanner quality setting                     \n",
       "TLSSERIA=              1851828 / TL Scanner serial number                       "
      ]
     },
     "execution_count": 19,
     "metadata": {},
     "output_type": "execute_result"
    }
   ],
   "source": [
    "hdu = fits.open('/home/gbtdata/TLASSI_200315/LASSI/2020_03_16_03:12:22.fits')\n",
    "hdu[0].header"
   ]
  },
  {
   "cell_type": "code",
   "execution_count": 24,
   "metadata": {},
   "outputs": [],
   "source": [
    "hdu = fits.open('/home/gbtdata/TLASSI_200315/ActiveSurfaceMgr/2020_03_16_03:12:09.fits')\n",
    "zernAS = hdu[1].data\n",
    "hdu = fits.open('/home/gbtdata/TLASSI_200315/LASSI/2020_03_16_03:02:51.zernike.fits')\n",
    "zernLASSI = hdu[2].data"
   ]
  },
  {
   "cell_type": "code",
   "execution_count": 22,
   "metadata": {},
   "outputs": [
    {
     "data": {
      "text/plain": [
       "FITS_rec([('Z1',   0.), ('Z2',   0.), ('Z3',   0.), ('Z4', 500.),\n",
       "          ('Z5',   0.), ('Z6',   0.), ('Z7',   0.), ('Z8',   0.),\n",
       "          ('Z9',   0.), ('Z10',   0.), ('Z11',   0.), ('Z12',   0.),\n",
       "          ('Z13',   0.), ('Z14',   0.), ('Z15',   0.), ('Z16',   0.),\n",
       "          ('Z17',   0.), ('Z18',   0.), ('Z19',   0.), ('Z20',   0.),\n",
       "          ('Z21',   0.), ('Z22',   0.), ('Z23',   0.), ('Z24',   0.),\n",
       "          ('Z25',   0.), ('Z26',   0.), ('Z27',   0.), ('Z28',   0.),\n",
       "          ('Z29',   0.), ('Z30',   0.), ('Z31',   0.), ('Z32',   0.),\n",
       "          ('Z33',   0.), ('Z34',   0.), ('Z35',   0.), ('Z36',   0.)],\n",
       "         dtype=(numpy.record, [('Name', 'S4'), ('Value', '>f8')]))"
      ]
     },
     "execution_count": 22,
     "metadata": {},
     "output_type": "execute_result"
    }
   ],
   "source": [
    "hdu = fits.open('/home/gbtdata/TLASSI_200315/ActiveSurfaceMgr/2020_03_16_03:02:38.fits')\n",
    "hdu[1].data"
   ]
  },
  {
   "cell_type": "code",
   "execution_count": 25,
   "metadata": {},
   "outputs": [
    {
     "data": {
      "text/plain": [
       "FITS_rec([( 0,    0.        ), ( 1,  213.03208133), ( 2,  413.2945699 ),\n",
       "          ( 3,  249.59104314), ( 4,  461.48849564), ( 5,   33.60401547),\n",
       "          ( 6,  239.53720008), ( 7,  -72.95390533), ( 8, -125.73965625),\n",
       "          ( 9,  -49.40609418), (10,  -55.07864134), (11,  143.21403398),\n",
       "          (12,   -6.35424739), (13,  -15.58212591), (14,  -39.85257771),\n",
       "          (15,   25.13239667), (16,  -19.61778983), (17,   27.08106771),\n",
       "          (18,   15.28558871), (19,   25.96849228), (20,   59.62036362),\n",
       "          (21,   64.73219012), (22,  -65.25797107), (23, -115.51459045),\n",
       "          (24, -197.9146768 ), (25,  -90.09027607), (26,  -56.35009693),\n",
       "          (27,  -32.1145165 ), (28,    9.35394068), (29,   28.20083662),\n",
       "          (30,  -24.23181697), (31,   36.06543496), (32, -105.87487259),\n",
       "          (33,  -45.01031943), (34,  -23.93107783), (35,  -66.11651215),\n",
       "          (36,  -32.28199928)],\n",
       "         dtype=(numpy.record, [('coef', '>i2'), ('value', '>f8')]))"
      ]
     },
     "execution_count": 25,
     "metadata": {},
     "output_type": "execute_result"
    }
   ],
   "source": [
    "zernLASSI"
   ]
  },
  {
   "cell_type": "code",
   "execution_count": 26,
   "metadata": {},
   "outputs": [
    {
     "data": {
      "text/plain": [
       "FITS_rec([('Z1',    0.        ), ('Z2',    0.        ),\n",
       "          ('Z3',    0.        ), ('Z4',  -38.51150513),\n",
       "          ('Z5',   33.60401535), ('Z6',  239.53720093),\n",
       "          ('Z7',  -72.9539032 ), ('Z8', -125.73965454),\n",
       "          ('Z9',  -49.4060936 ), ('Z10',  -55.07863998),\n",
       "          ('Z11',  143.21403503), ('Z12',   -6.35424757),\n",
       "          ('Z13',  -15.58212566), ('Z14',  -39.85257721),\n",
       "          ('Z15',   25.1323967 ), ('Z16',  -19.61779022),\n",
       "          ('Z17',   27.08106804), ('Z18',   15.28558826),\n",
       "          ('Z19',   25.96849251), ('Z20',   59.62036514),\n",
       "          ('Z21',   64.73219299), ('Z22',  -65.25797272),\n",
       "          ('Z23', -115.5145874 ), ('Z24', -197.91467285),\n",
       "          ('Z25',  -90.09027863), ('Z26',  -56.35009766),\n",
       "          ('Z27',  -32.11451721), ('Z28',    9.35394096),\n",
       "          ('Z29',   28.20083618), ('Z30',  -24.23181725),\n",
       "          ('Z31',   36.0654335 ), ('Z32', -105.8748703 ),\n",
       "          ('Z33',  -45.01031876), ('Z34',  -23.93107796),\n",
       "          ('Z35',  -66.11650848), ('Z36',  -32.28199768)],\n",
       "         dtype=(numpy.record, [('Name', 'S4'), ('Value', '>f8')]))"
      ]
     },
     "execution_count": 26,
     "metadata": {},
     "output_type": "execute_result"
    }
   ],
   "source": [
    "zernAS"
   ]
  },
  {
   "cell_type": "code",
   "execution_count": 27,
   "metadata": {},
   "outputs": [
    {
     "name": "stdout",
     "output_type": "stream",
     "text": [
      "[( 0,    0.        ) ( 1, -142.61309766) ( 2, -135.66595214)\n",
      " ( 3, -226.99322252) ( 4,  308.58018824) ( 5,   26.061096  )\n",
      " ( 6,  -91.71916598) ( 7,  136.29833859) ( 8,   13.40347035)\n",
      " ( 9,   20.2630401 ) (10,   60.11831056) (11,   16.75163826)\n",
      " (12,  -43.72545316) (13,  -40.10847972) (14,   70.00182427)\n",
      " (15,   57.39007044) (16,   25.33919647) (17,  -46.44079744)\n",
      " (18,  -27.26544897) (19,  -21.96453826) (20,   17.35407293)\n",
      " (21,    5.45349112) (22,   13.42022388) (23,  -29.10331436)\n",
      " (24,  -30.42244871) (25,    2.5015409 ) (26,   27.71623806)\n",
      " (27,   13.76773282) (28,   30.18393154) (29,   -5.4721461 )\n",
      " (30,  -92.82333586) (31,  -36.32986651) (32,   75.80012105)\n",
      " (33,   -5.67256535) (34,    9.05231242) (35,   35.55652573)\n",
      " (36,  -11.08806032)]\n"
     ]
    }
   ],
   "source": [
    "hdu = fits.open('/home/gbtdata/TLASSI_200315/LASSI/2020_03_16_03:27:25.zernike.fits')\n",
    "print(hdu[2].data)"
   ]
  },
  {
   "cell_type": "code",
   "execution_count": 28,
   "metadata": {},
   "outputs": [
    {
     "name": "stdout",
     "output_type": "stream",
     "text": [
      "[('Z1',   0.) ('Z2',   0.) ('Z3',   0.) ('Z4', 150.) ('Z5',   0.)\n",
      " ('Z6',   0.) ('Z7',   0.) ('Z8',   0.) ('Z9',   0.) ('Z10',   0.)\n",
      " ('Z11',   0.) ('Z12',   0.) ('Z13',   0.) ('Z14',   0.) ('Z15',   0.)\n",
      " ('Z16',   0.) ('Z17',   0.) ('Z18',   0.) ('Z19',   0.) ('Z20',   0.)\n",
      " ('Z21',   0.) ('Z22',   0.) ('Z23',   0.) ('Z24',   0.) ('Z25',   0.)\n",
      " ('Z26',   0.) ('Z27',   0.) ('Z28',   0.) ('Z29',   0.) ('Z30',   0.)\n",
      " ('Z31',   0.) ('Z32',   0.) ('Z33',   0.) ('Z34',   0.) ('Z35',   0.)\n",
      " ('Z36',   0.)]\n"
     ]
    }
   ],
   "source": [
    "hdu = fits.open('/home/gbtdata/TLASSI_200315/ActiveSurfaceMgr/2020_03_16_03:27:11.fits')\n",
    "print(hdu[1].data)"
   ]
  },
  {
   "cell_type": "code",
   "execution_count": null,
   "metadata": {},
   "outputs": [],
   "source": []
  }
 ],
 "metadata": {
  "kernelspec": {
   "display_name": "Python 3",
   "language": "python",
   "name": "python3"
  },
  "language_info": {
   "codemirror_mode": {
    "name": "ipython",
    "version": 3
   },
   "file_extension": ".py",
   "mimetype": "text/x-python",
   "name": "python",
   "nbconvert_exporter": "python",
   "pygments_lexer": "ipython3",
   "version": "3.7.5"
  }
 },
 "nbformat": 4,
 "nbformat_minor": 2
}
