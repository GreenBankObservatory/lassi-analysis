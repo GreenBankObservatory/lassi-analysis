{
 "cells": [
  {
   "cell_type": "code",
   "execution_count": 1,
   "metadata": {},
   "outputs": [],
   "source": [
    "%matplotlib notebook\n",
    "%load_ext autoreload\n",
    "%autoreload 2"
   ]
  },
  {
   "cell_type": "code",
   "execution_count": 2,
   "metadata": {},
   "outputs": [],
   "source": [
    "import pickle\n",
    "import numpy as np\n",
    "import pylab as plt\n",
    "\n",
    "# Make sure we can find lassi-analysis\n",
    "import sys\n",
    "sys.path.append('/home/scratch/psalas/LASSI/lassi-analysis_v2')\n",
    "\n",
    "from bad_scans import october_bad_scans as bad_scans\n",
    "from utils.utils import makeGrid, zernikeResidualSurfaceError"
   ]
  },
  {
   "cell_type": "code",
   "execution_count": 18,
   "metadata": {},
   "outputs": [],
   "source": [
    "def process(zFitDict, zindxs, zcoefs, eta_tot, verbose=False):\n",
    "    \"\"\"\n",
    "    \"\"\"\n",
    "    \n",
    "    eta_max = np.nanmax(eta_tot)\n",
    "    \n",
    "    # Extract information from the dictionaries and update wrong values.\n",
    "    iz = np.zeros(len(zFitDict.keys()), dtype=int)\n",
    "    izv = np.zeros(len(zFitDict.keys()), dtype=np.float)\n",
    "    izvas = np.zeros(len(zFitDict.keys()), dtype=np.float)\n",
    "    zobs = np.zeros(len(zFitDict.keys()), dtype=np.float)\n",
    "    pdiff = np.zeros(len(zFitDict.keys()), dtype=np.float)\n",
    "    scan = np.zeros(len(zFitDict.keys()), dtype=int)\n",
    "\n",
    "    for i,k in enumerate(sorted(list(zFitDict.keys())[1:])):\n",
    "\n",
    "        if k in bad_scans:\n",
    "            continue\n",
    "\n",
    "        scan[i] = k\n",
    "\n",
    "        iz[i] = zFitDict[k]['input zernike']\n",
    "        izv[i] = zFitDict[k]['input zernike value']\n",
    "        izvas[i] = zFitDict[k]['active surface zernike value']\n",
    "        zobs[i] = zFitDict[k]['recovered zernike'][iz[i]]*1e6\n",
    "        pdiff[i] = zFitDict[k]['recovered zernike difference AS']\n",
    "        \n",
    "    mask = (iz == 0)\n",
    "    iz = iz[~mask]\n",
    "    izv = izv[~mask]\n",
    "    izvas = izvas[~mask]\n",
    "    zobs = zobs[~mask]\n",
    "    scan = scan[~mask]\n",
    "    \n",
    "    # Compute statistics per coefficient, per polynomial.\n",
    "    zobs_x = np.unique(izv)\n",
    "    uiz = np.unique(iz)\n",
    "\n",
    "    zobs_zi = np.zeros((len(zobs_x),len(uiz)), dtype=np.int)\n",
    "    zobs_izv = np.zeros((len(zobs_x),len(uiz)), dtype=np.int)\n",
    "    zobs_stds_vz = np.zeros((len(zobs_x),len(uiz)), dtype=np.float)\n",
    "    zobs_means_vz = np.zeros((len(zobs_x),len(uiz)), dtype=np.float)\n",
    "    zobs_pdiff_vz = np.zeros((len(zobs_x),len(uiz)), dtype=np.float)\n",
    "    \n",
    "    eta_res_all = []\n",
    "    eta_res = np.zeros((len(zobs_x),len(uiz)), dtype=np.float)\n",
    "    eta_res_p = np.zeros((len(zobs_x),len(uiz)), dtype=np.float)\n",
    "    \n",
    "    for i,izv_ in enumerate(zobs_x):\n",
    "        for j,iz_ in enumerate(uiz):\n",
    "\n",
    "            mask = (izv == izv_) & (iz == iz_)\n",
    "            idxs = np.where(mask == True)[0]\n",
    "            \n",
    "            zobs_zi[i,j] = iz_\n",
    "            zobs_izv[i,j] = np.nanmean(izvas[mask])\n",
    "            \n",
    "            # Index of Zernike polynomial in the aperture efficiency array.\n",
    "            iz_idx = np.argmin(abs(zindxs - iz_))\n",
    "            \n",
    "            # Aperture efficiency given the residuals for each measurement.\n",
    "            eta_res_ = np.zeros(len(idxs), dtype=np.float)\n",
    "            \n",
    "            for k,ix in enumerate(idxs):\n",
    "                \n",
    "                # Find the corresponding index for the coefficient.\n",
    "                rzv = izvas[ix] - zobs[ix]\n",
    "                idx = np.argmin(abs(rzv - zcoefs*1e6))\n",
    "                \n",
    "                eta_res_[k] = eta_tot[iz_idx,idx]\n",
    "                eta_res_all.append(eta_tot[iz_idx,idx])\n",
    "                #print(iz_, izv_, rzv, eta_res_[k], zobs[ix])\n",
    "            \n",
    "            eta_res[i,j] = np.mean(eta_res_)\n",
    "            eta_res_p[i,j] = (eta_max - eta_res[i,j])/eta_max*100.\n",
    "            \n",
    "            zobs_stds_vz[i,j] = np.nanstd(zobs[mask])\n",
    "            zobs_means_vz[i,j] = np.nanmean(zobs[mask])\n",
    "            zobs_pdiff_vz[i,j] = np.nanmean((zobs[mask] - izvas[mask])/izvas[mask])\n",
    "            \n",
    "    return eta_res, eta_res_p, eta_res_all"
   ]
  },
  {
   "cell_type": "code",
   "execution_count": 26,
   "metadata": {},
   "outputs": [],
   "source": [
    "# Grid parameters, in meters.\n",
    "xmin = -50.\n",
    "xmax = 50.\n",
    "ymin = 0.1\n",
    "ymax = 100.\n",
    "dx   = (xmax - xmin)/512\n",
    "dy   = (ymax - ymin)/512\n",
    "# Surface error.\n",
    "eps = 230e-6 # m\n",
    "# Observing frequency.\n",
    "nu = 115e9\n",
    "lmbd = 3e8/nu\n",
    "# Thermal deformations.\n",
    "n_zern = 36\n",
    "zindxs = [4,7,13,15]\n",
    "zcoefs = np.arange(-500., 500., 10.)*1e-6 # m"
   ]
  },
  {
   "cell_type": "code",
   "execution_count": 27,
   "metadata": {},
   "outputs": [
    {
     "name": "stdout",
     "output_type": "stream",
     "text": [
      "(512, 512)\n"
     ]
    }
   ],
   "source": [
    "# Make grid.\n",
    "xx, yy, zz = makeGrid(xmin, xmax, dx, ymin, ymax, dy)\n",
    "print(xx.shape)"
   ]
  },
  {
   "cell_type": "code",
   "execution_count": 28,
   "metadata": {},
   "outputs": [
    {
     "name": "stdout",
     "output_type": "stream",
     "text": [
      "CPU times: user 7min 38s, sys: 27.5 ms, total: 7min 38s\n",
      "Wall time: 7min 38s\n"
     ]
    }
   ],
   "source": [
    "%%time\n",
    "\n",
    "eps_tot = np.zeros((len(zindxs), len(zcoefs)), dtype=np.float)\n",
    "eta_tot = np.zeros((len(zindxs), len(zcoefs)), dtype=np.float)\n",
    "\n",
    "for i,iz in enumerate(zindxs):\n",
    "    for j,zv in enumerate(zcoefs):\n",
    "        z_coef = np.zeros(n_zern)\n",
    "        z_coef[iz] = zv\n",
    "        eps_tot[i,j], eta_tot[i,j], _ = zernikeResidualSurfaceError(xx, yy, z_coef, eps=eps, lmbd=lmbd, verbose=False)"
   ]
  },
  {
   "cell_type": "code",
   "execution_count": 29,
   "metadata": {},
   "outputs": [
    {
     "name": "stdout",
     "output_type": "stream",
     "text": [
      "0.20804304085861067\n"
     ]
    }
   ],
   "source": [
    "print(np.nanmax(eta_tot))"
   ]
  },
  {
   "cell_type": "code",
   "execution_count": 7,
   "metadata": {},
   "outputs": [
    {
     "name": "stdout",
     "output_type": "stream",
     "text": [
      "0.20804304085861067\n"
     ]
    }
   ],
   "source": [
    "print(np.nanmax(eta_tot))"
   ]
  },
  {
   "cell_type": "code",
   "execution_count": 30,
   "metadata": {},
   "outputs": [
    {
     "name": "stdout",
     "output_type": "stream",
     "text": [
      "1b 8.481737595384127 32.49001782084947 0.11000209153504935 49 3\n",
      "2b 6.88501378866417 19.412105747092944 0.14149306850580043 49 3.5\n",
      "3b 5.452543836752968 12.72412675936988 0.1567300213983706 49 4\n",
      "4b 5.419359254158886 8.92735768116435 0.1708975480821725 49 4.5\n",
      "5b 5.242810294832496 9.3191758835003 0.1708975480821725 49 5\n",
      "6b 5.5501905203374164 9.515557152119078 0.18158205394819843 49 5.5\n",
      "7b 5.72478883852684 12.345183571994607 0.1708975480821725 49 6\n",
      "8b 10.364601298464997 43.032634425727814 0.08030325787714375 48.5 3\n",
      "9b 8.79527157901863 29.476437132384063 0.11000209153504935 48.5 3.5\n",
      "10b 7.6743433441825415 23.19733186233785 0.1257432694787409 48.5 4\n",
      "11b 6.495972094704085 16.386098058598638 0.14149306850580043 48.5 4.5\n",
      "12b 6.288841815632835 15.994279856262688 0.14149306850580043 48.5 5\n",
      "13b 6.78414717854915 16.386098058598638 0.14149306850580043 48.5 5.5\n",
      "14b 6.219263279578357 16.386098058598638 0.14149306850580043 48.5 6\n",
      "15b 4.678563353644687 7.749324943806493 0.1790485747326915 50 3\n",
      "16b 5.6185091555862305 11.164784353856485 0.17616880583943234 50 3.5\n",
      "17b 6.582670877441611 15.01806491364108 0.16486271118768822 50 4\n",
      "18b 7.142372332995797 17.249163837269236 0.1555794190971287 50 4.5\n",
      "19b 7.566963446895132 17.249163837269236 0.1555794190971287 50 5\n",
      "20b 8.34709226530237 19.236820452211106 0.14149306850580043 50 5.5\n",
      "21b 9.982842953000716 21.300301122829303 0.1257432694787409 50 6\n",
      "22b 22.824531139174564 92.70382881604212 0.008942839036255623 49.5 2\n",
      "23b 10.915645483701221 46.69460572495658 0.08030325787714375 49.5 2.5\n",
      "24b 5.965700296817887 15.750134447864186 0.1567300213983706 49.5 3\n",
      "25b 4.518355269859867 7.614184563214785 0.1818241664010371 49.5 3.5\n",
      "26b 4.426096134921814 9.515557152119078 0.18158205394819843 49.5 4\n",
      "27b 5.284075844638405 12.150067749153871 0.17357853974784004 49.5 4.5\n",
      "28b 5.408350362833755 13.17817552790591 0.16930072637540072 49.5 5\n",
      "29b 5.621216633332498 15.01806491364108 0.16486271118768822 49.5 5.5\n",
      "30b 6.303000065387289 14.783516038091632 0.16930072637540072 49.5 6\n",
      "31b 23.53010568470612 96.54070818321725 0.0022394284490670686 48.6 2\n",
      "32b 22.92365399787693 95.31293985214214 0.003241319411486246 49 2\n",
      "33b 21.70649562817928 89.33515322788358 0.008942839036255623 50 2\n",
      "34b 14.723400442053682 68.7177045199633 0.03543210401898915 48.5 2.5\n",
      "35b 12.888154418357756 62.864775938969196 0.044512407197404534 49 2.5\n",
      "36b 9.106406973415533 29.476437132384063 0.11000209153504935 50 2.5\n",
      "37b 22.942699178044464 81.62344622468224 0.02141551375845569 50.5 2\n",
      "38b 16.10678485858496 67.78960879330226 0.06701147733886852 50.5 2.5\n",
      "39b 14.3329788899288 54.466550227229945 0.09472917351509896 50.5 3\n",
      "40b 16.21603625179847 47.125320279370214 0.11000209153504935 50.5 4\n",
      "41b 16.726270117218593 54.466550227229945 0.09472917351509896 50.5 4.5\n",
      "42b 18.734237436614258 61.40065173738779 0.08030325787714375 50.5 5\n",
      "43b 18.166511204722323 54.466550227229945 0.09472917351509896 50.5 5.5\n",
      "44b 17.569417779437753 54.466550227229945 0.09472917351509896 50.5 6\n",
      "CPU times: user 209 ms, sys: 6.08 ms, total: 215 ms\n",
      "Wall time: 212 ms\n"
     ]
    }
   ],
   "source": [
    "%%time\n",
    "dictFiles = ['zFitDict_{}b.pickle'.format(i) for i in np.arange(1,45)]\n",
    "#dictFiles = ['zFitDict_{}b.pickle'.format(i) for i in np.arange(15,16)]\n",
    "\n",
    "eta_res = np.zeros((len(dictFiles),2), dtype=np.float)\n",
    "\n",
    "for i,df in enumerate(dictFiles):\n",
    "    zFitDict = pickle.load( open(df, \"rb\"), encoding='bytes')\n",
    "    eta, etap, etall = process(zFitDict, zindxs, zcoefs, eta_tot, verbose=False)\n",
    "    eta_res[i] = np.mean(eta), np.mean(etap)\n",
    "    \n",
    "    df_ = df.split('_')[-1].split('.')[0]\n",
    "    \n",
    "    try:\n",
    "        print(df_, eta_res[i,1], np.max(etap), np.min(etall), zFitDict['header']['maskRadius'], zFitDict['header']['sigma'])\n",
    "    except KeyError:\n",
    "        print(df_, eta_res[i,1], np.max(etap), np.min(etall), zFitDict['header']['maskRadius'], 3)\n",
    "\n",
    "#print(eta_res)"
   ]
  },
  {
   "cell_type": "code",
   "execution_count": 21,
   "metadata": {},
   "outputs": [
    {
     "name": "stdout",
     "output_type": "stream",
     "text": [
      "1b 8.887654252828744 34.31257900541464 0.10490361857687991 49 3\n",
      "2b 7.2184239660639 20.61947118669336 0.13748873013842577 49 3.5\n",
      "3b 5.6862317593649765 13.539356294972771 0.15345886521764618 49 4\n",
      "4b 5.6409456061714 9.524577960999528 0.16841259762058575 49 4.5\n",
      "5b 5.449299188853332 9.945452759140885 0.16841259762058575 49 5\n",
      "6b 5.772626369976099 9.845709813279687 0.18067539402129673 49 5.5\n",
      "7b 5.954275688240546 13.187387096176636 0.16841259762058575 49 6\n",
      "8b 10.822607882623279 45.13964880763066 0.07480742047499032 48.5 3\n",
      "9b 9.199694724728362 31.113124251519615 0.10490361857687991 48.5 3.5\n",
      "10b 8.018342070173226 24.55451592003311 0.1211155566936525 48.5 4\n",
      "11b 6.7703468988566184 17.377536849657595 0.13748873013842577 48.5 4.5\n",
      "12b 6.544652145685204 16.95666205151623 0.13748873013842577 48.5 5\n",
      "13b 7.0681048284021095 17.377536849657595 0.13748873013842577 48.5 5.5\n",
      "14b 6.473069192640172 17.377536849657595 0.13748873013842577 48.5 6\n",
      "15b 4.8743716030810855 7.926469555927085 0.178396801008113 50 3\n",
      "16b 5.836443919191029 11.548406470847288 0.17545837421910057 50 3.5\n",
      "17b 6.836436551318758 15.518054251428893 0.16345752412973102 50 4\n",
      "18b 7.406026152419547 17.80911214914155 0.15345886521764618 50 4.5\n",
      "19b 7.845810924935525 17.80911214914155 0.15345886521764618 50 5\n",
      "20b 8.652225348721828 19.853105012875886 0.13748873013842577 50 5.5\n",
      "21b 10.35519191686268 21.973168729472196 0.1211155566936525 50 6\n",
      "22b 23.4646845255727 93.95455860662071 0.007074492611297499 49.5 2\n",
      "23b 11.421362045372442 48.97782936231548 0.07480742047499032 49.5 2.5\n",
      "24b 6.247358645608731 16.781290632008535 0.15345886521764618 49.5 3\n",
      "25b 4.693660849383638 7.788447308448266 0.18123001584019832 49.5 3.5\n",
      "26b 4.575546630574079 9.845709813279687 0.18067539402129673 49.5 4\n",
      "27b 5.478429326276122 12.563596735062884 0.17242560821896638 49.5 4.5\n",
      "28b 5.597099132057139 13.621970653656431 0.16802186165117344 49.5 5\n",
      "29b 5.814166695458642 15.518054251428893 0.16345752412973102 49.5 5.5\n",
      "30b 6.5287257197253465 15.280384129703501 0.16802186165117344 49.5 6\n",
      "31b 24.10613872042084 97.2517336364164 0.001597989139040644 48.6 2\n",
      "32b 23.511524963686476 96.19625220627088 0.0023774841263622206 49 2\n",
      "33b 22.30529015989258 90.83591063093833 0.007074492611297499 50 2\n",
      "34b 15.293870860572111 71.06499689271321 0.03105600776949561 48.5 2.5\n",
      "35b 13.408758250276767 65.25069683497432 0.03968339538651384 49 2.5\n",
      "36b 9.525319465523081 31.113124251519615 0.10490361857687991 50 2.5\n",
      "37b 23.689837900769664 83.67233063753507 0.018079747604925388 50.5 2\n",
      "38b 16.71362920823675 70.3956753915635 0.06158973714104527 50.5 2.5\n",
      "39b 14.913462941794364 57.057677807600356 0.08933851290437021 50.5 3\n",
      "40b 16.869881047280312 49.576002088830236 0.10490361857687991 50.5 4\n",
      "41b 17.377452629218016 57.057677807600356 0.08933851290437021 50.5 4.5\n",
      "42b 19.435958368466917 64.04233462159851 0.07480742047499032 50.5 5\n",
      "43b 18.852912724569723 57.057677807600356 0.08933851290437021 50.5 5.5\n",
      "44b 18.226128794773288 57.057677807600356 0.08933851290437021 50.5 6\n",
      "CPU times: user 403 ms, sys: 13.1 ms, total: 416 ms\n",
      "Wall time: 586 ms\n"
     ]
    }
   ],
   "source": [
    "%%time\n",
    "dictFiles = ['zFitDict_{}b.pickle'.format(i) for i in np.arange(1,45)]\n",
    "#dictFiles = ['zFitDict_{}b.pickle'.format(i) for i in np.arange(15,16)]\n",
    "\n",
    "eta_res = np.zeros((len(dictFiles),2), dtype=np.float)\n",
    "\n",
    "for i,df in enumerate(dictFiles):\n",
    "    zFitDict = pickle.load( open(df, \"rb\"), encoding='bytes')\n",
    "    eta, etap, etall = process(zFitDict, zindxs, zcoefs, eta_tot, verbose=False)\n",
    "    eta_res[i] = np.mean(eta), np.mean(etap)\n",
    "    \n",
    "    df_ = df.split('_')[-1].split('.')[0]\n",
    "    \n",
    "    try:\n",
    "        print(df_, eta_res[i,1], np.max(etap), np.min(etall), zFitDict['header']['maskRadius'], zFitDict['header']['sigma'])\n",
    "    except KeyError:\n",
    "        print(df_, eta_res[i,1], np.max(etap), np.min(etall), zFitDict['header']['maskRadius'], 3)\n",
    "\n",
    "#print(eta_res)"
   ]
  },
  {
   "cell_type": "code",
   "execution_count": 18,
   "metadata": {},
   "outputs": [
    {
     "name": "stdout",
     "output_type": "stream",
     "text": [
      "zFitDict_26b.pickle\n",
      "{'scan0': 16, 'scanf': 125, 'nZern': 37, 'signal_registration': False, 'sigma_clip_diff': False, 'kernel_size': 1, 'do_replace_nans': False, 'guess': [60.0, 0.0, 0.0, -50.0, 0.0, 0.0], 'maskRadius': 49.5, 'fixed_reference': False, 'reference_scan': None, 'signal_type': b'SIGNAL', 'sigma': 4}\n"
     ]
    }
   ],
   "source": [
    "best = np.argmin(eta_res[:,1])\n",
    "print(dictFiles[best])\n",
    "zFitDict = pickle.load( open(dictFiles[best], \"rb\"), encoding='bytes')\n",
    "print(zFitDict['header'])"
   ]
  },
  {
   "cell_type": "code",
   "execution_count": null,
   "metadata": {},
   "outputs": [],
   "source": []
  }
 ],
 "metadata": {
  "kernelspec": {
   "display_name": "Python 3",
   "language": "python",
   "name": "python3"
  },
  "language_info": {
   "codemirror_mode": {
    "name": "ipython",
    "version": 3
   },
   "file_extension": ".py",
   "mimetype": "text/x-python",
   "name": "python",
   "nbconvert_exporter": "python",
   "pygments_lexer": "ipython3",
   "version": "3.7.5"
  }
 },
 "nbformat": 4,
 "nbformat_minor": 2
}
