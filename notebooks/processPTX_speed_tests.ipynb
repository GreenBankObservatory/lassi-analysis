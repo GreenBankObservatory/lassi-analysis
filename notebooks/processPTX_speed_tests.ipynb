{
 "cells": [
  {
   "cell_type": "code",
   "execution_count": 1,
   "metadata": {},
   "outputs": [],
   "source": [
    "%matplotlib notebook\n",
    "%load_ext autoreload\n",
    "%autoreload 2"
   ]
  },
  {
   "cell_type": "code",
   "execution_count": 20,
   "metadata": {},
   "outputs": [],
   "source": [
    "import os\n",
    "import glob\n",
    "import numpy as np\n",
    "import pylab as plt\n",
    "\n",
    "from processPTX import getRawXYZ, neighborFilter, radialFilter, rotateXYaboutZ"
   ]
  },
  {
   "cell_type": "code",
   "execution_count": 3,
   "metadata": {},
   "outputs": [],
   "source": [
    "n = 512\n",
    "xOffset = -50; yOffset=-8; rot=80.; radius=45.\n",
    "path = \"/home/sandboxes/pmargani/LASSI/data/9oct2019/\""
   ]
  },
  {
   "cell_type": "code",
   "execution_count": 4,
   "metadata": {},
   "outputs": [],
   "source": [
    "sn = 333\n",
    "re = '{0}/{1}_*.ptx'.format(path, sn)\n",
    "fn = glob.glob(re)[0]"
   ]
  },
  {
   "cell_type": "code",
   "execution_count": 5,
   "metadata": {},
   "outputs": [
    {
     "name": "stdout",
     "output_type": "stream",
     "text": [
      "CPU times: user 806 ms, sys: 578 ms, total: 1.38 s\n",
      "Wall time: 1.39 s\n"
     ]
    }
   ],
   "source": [
    "%%time\n",
    "with open(fn, 'r') as f:\n",
    "    ls = f.readlines()"
   ]
  },
  {
   "cell_type": "code",
   "execution_count": 6,
   "metadata": {},
   "outputs": [
    {
     "name": "stdout",
     "output_type": "stream",
     "text": [
      "Skipped 0 non-data lines\n",
      "CPU times: user 14.7 s, sys: 1.17 s, total: 15.9 s\n",
      "Wall time: 15.9 s\n"
     ]
    }
   ],
   "source": [
    "%%time\n",
    "x, y, z, i = getRawXYZ(ls, sampleSize=None)"
   ]
  },
  {
   "cell_type": "code",
   "execution_count": 7,
   "metadata": {},
   "outputs": [],
   "source": [
    "#%%time\n",
    "#xyzi = np.loadtxt(fn, skiprows=11)"
   ]
  },
  {
   "cell_type": "code",
   "execution_count": 8,
   "metadata": {},
   "outputs": [
    {
     "name": "stdout",
     "output_type": "stream",
     "text": [
      "Filtered out 0 points of 9364807 ( 0.00%) intensity equal to zero\n",
      "Now we have 9364807 lines of data\n",
      "CPU times: user 144 ms, sys: 182 ms, total: 326 ms\n",
      "Wall time: 323 ms\n",
      "Parser   : 222 ms\n"
     ]
    }
   ],
   "source": [
    "%%time\n",
    "# lets first just remove all the zero data\n",
    "mask = i != 0.0\n",
    "i = i[mask]\n",
    "\n",
    "numFilteredOut = len(x) - len(i)\n",
    "percent = (float(numFilteredOut) / float(len(x))) * 100.\n",
    "print(\"Filtered out %d points of %d (%5.2f%%) intensity equal to zero\" % (numFilteredOut, len(x), percent))\n",
    "\n",
    "x = x[mask]\n",
    "y = y[mask]\n",
    "z = z[mask]\n",
    "\n",
    "print(\"Now we have %d lines of data\" % len(x))"
   ]
  },
  {
   "cell_type": "code",
   "execution_count": 9,
   "metadata": {},
   "outputs": [
    {
     "name": "stdout",
     "output_type": "stream",
     "text": [
      "neighborFilter reduces 9364807 points to 9124495 points (240312 filtered, 2.566118 %) using tol: 0.122000\n",
      "Now we have 9124495 lines of data\n",
      "CPU times: user 2.7 s, sys: 1.41 s, total: 4.11 s\n",
      "Wall time: 4.1 s\n"
     ]
    }
   ],
   "source": [
    "%%time\n",
    "x, y, z, mask = neighborFilter(x, y, z, 0.122)\n",
    "i = i[mask]\n",
    "print(\"Now we have %d lines of data\" % len(x))"
   ]
  },
  {
   "cell_type": "code",
   "execution_count": 10,
   "metadata": {},
   "outputs": [
    {
     "name": "stdout",
     "output_type": "stream",
     "text": [
      "Intensity: max= 1.00, min= 0.00, mean= 0.72, std= 0.20\n",
      "Filtered out 2676627 points of 9124495 (29.33%) via intensity\n",
      "Now we have 6447868 lines of data\n",
      "CPU times: user 306 ms, sys: 153 ms, total: 459 ms\n",
      "Wall time: 457 ms\n"
     ]
    }
   ],
   "source": [
    "%%time\n",
    "# we only want the data that has a decent intesity\n",
    "meanI = np.mean(i)\n",
    "stdI = np.std(i)\n",
    "print(\"Intensity: max=%5.2f, min=%5.2f, mean=%5.2f, std=%5.2f\" % (np.max(i),\n",
    "                                                              np.min(i),\n",
    "                                                              meanI,\n",
    "                                                              stdI))\n",
    "\n",
    "mask = np.logical_and(i > 0.75, i < 0.85)\n",
    "i = i[mask]\n",
    "\n",
    "numFilteredOut = len(x) - len(i)\n",
    "percent = (float(numFilteredOut) / float(len(x))) * 100.\n",
    "print(\"Filtered out %d points of %d (%5.2f%%) via intensity\" % (numFilteredOut, len(x), percent))\n",
    "\n",
    "x = x[mask]\n",
    "y = y[mask]\n",
    "z = z[mask]\n",
    "\n",
    "print(\"Now we have %d lines of data\" % len(x))"
   ]
  },
  {
   "cell_type": "code",
   "execution_count": 11,
   "metadata": {},
   "outputs": [],
   "source": [
    "x_ = np.copy(x)\n",
    "y_ = np.copy(y)\n",
    "z_ = np.copy(z)"
   ]
  },
  {
   "cell_type": "code",
   "execution_count": 12,
   "metadata": {},
   "outputs": [
    {
     "name": "stdout",
     "output_type": "stream",
     "text": [
      "radial limit filtered out 1509832 points outside radius 45.00\n",
      "Now we have 4938036 lines of data\n",
      "CPU times: user 264 ms, sys: 154 ms, total: 418 ms\n",
      "Wall time: 416 ms\n"
     ]
    }
   ],
   "source": [
    "%%time\n",
    "orgNum = len(x)\n",
    "x, y, z =  radialFilter(x, y, z, xOffset, yOffset, radius)\n",
    "newNum = len(x)\n",
    "print(\"radial limit filtered out %d points outside radius %5.2f\" % ((orgNum - newNum), radius))\n",
    "print(\"Now we have %d lines of data\" % len(x))"
   ]
  },
  {
   "cell_type": "code",
   "execution_count": 13,
   "metadata": {},
   "outputs": [
    {
     "name": "stdout",
     "output_type": "stream",
     "text": [
      "radial limit filtered out 1509832 points outside radius 45.00\n",
      "Now we have 4938036 lines of data\n",
      "CPU times: user 253 ms, sys: 199 ms, total: 452 ms\n",
      "Wall time: 451 ms\n"
     ]
    }
   ],
   "source": [
    "%%time\n",
    "orgNum = len(x_)\n",
    "\n",
    "mask = np.power(x_ - xOffset, 2.) + np.power(y_ - yOffset, 2.) < radius**2.\n",
    "x__ = x_[mask]\n",
    "y__ = y_[mask]\n",
    "z__ = z_[mask]\n",
    "\n",
    "newNum = len(x__)\n",
    "print(\"radial limit filtered out %d points outside radius %5.2f\" % ((orgNum - newNum), radius))\n",
    "print(\"Now we have %d lines of data\" % len(x))"
   ]
  },
  {
   "cell_type": "code",
   "execution_count": 14,
   "metadata": {},
   "outputs": [
    {
     "name": "stdout",
     "output_type": "stream",
     "text": [
      "z - limit filtered out 0 points below -80.00\n",
      "CPU times: user 70.3 ms, sys: 116 ms, total: 187 ms\n",
      "Wall time: 186 ms\n"
     ]
    }
   ],
   "source": [
    "%%time\n",
    "z = -z\n",
    "\n",
    "# z - filter: at this point we should have the\n",
    "# dish, but with some things the radial filter didn't\n",
    "# get rid of above or below the dish\n",
    "zLimit = -80\n",
    "mask = z > -80\n",
    "orgNum = len(z)\n",
    "x = x[mask]\n",
    "y = y[mask]\n",
    "z = z[mask]\n",
    "newNum = len(z)\n",
    "print(\"z - limit filtered out %d points below %5.2f\" % ((orgNum - newNum), zLimit))"
   ]
  },
  {
   "cell_type": "code",
   "execution_count": 15,
   "metadata": {},
   "outputs": [
    {
     "name": "stdout",
     "output_type": "stream",
     "text": [
      "CPU times: user 5.04 s, sys: 576 ms, total: 5.62 s\n",
      "Wall time: 5.61 s\n"
     ]
    }
   ],
   "source": [
    "%%time\n",
    "# x, y, z -> [(x, y, z)]\n",
    "# for rotation phase\n",
    "xyz = []\n",
    "for i in range(len(x)):\n",
    "    xyz.append((x[i], y[i], z[i]))\n",
    "xyz = np.array(xyz)"
   ]
  },
  {
   "cell_type": "code",
   "execution_count": 16,
   "metadata": {},
   "outputs": [
    {
     "name": "stdout",
     "output_type": "stream",
     "text": [
      "CPU times: user 75.7 ms, sys: 76.3 ms, total: 152 ms\n",
      "Wall time: 151 ms\n"
     ]
    }
   ],
   "source": [
    "%%time\n",
    "xyz_ = np.c_[x, y, z]"
   ]
  },
  {
   "cell_type": "code",
   "execution_count": 18,
   "metadata": {},
   "outputs": [
    {
     "data": {
      "text/plain": [
       "array([ -7.459617,  -7.449204,  -7.439179, ..., -13.406927, -13.387124,\n",
       "       -13.366927])"
      ]
     },
     "execution_count": 18,
     "metadata": {},
     "output_type": "execute_result"
    }
   ],
   "source": [
    "xyz[:,0]"
   ]
  },
  {
   "cell_type": "code",
   "execution_count": 19,
   "metadata": {},
   "outputs": [
    {
     "data": {
      "text/plain": [
       "array([ -7.459617,  -7.449204,  -7.439179, ..., -13.406927, -13.387124,\n",
       "       -13.366927])"
      ]
     },
     "execution_count": 19,
     "metadata": {},
     "output_type": "execute_result"
    }
   ],
   "source": [
    "xyz_[:,0]"
   ]
  },
  {
   "cell_type": "code",
   "execution_count": 21,
   "metadata": {},
   "outputs": [
    {
     "name": "stdout",
     "output_type": "stream",
     "text": [
      "Rotating about Z by 80.00 degrees\n",
      "CPU times: user 4.07 s, sys: 577 ms, total: 4.65 s\n",
      "Wall time: 4.64 s\n"
     ]
    }
   ],
   "source": [
    "%%time\n",
    "print(\"Rotating about Z by %5.2f degrees\" % rot)\n",
    "rotationAboutZdegrees = rot\n",
    "xyz = rotateXYaboutZ(xyz, rotationAboutZdegrees)"
   ]
  },
  {
   "cell_type": "code",
   "execution_count": 25,
   "metadata": {},
   "outputs": [
    {
     "name": "stdout",
     "output_type": "stream",
     "text": [
      "Rotating about Z by 80.00 degrees\n",
      "CPU times: user 297 ms, sys: 280 ms, total: 577 ms\n",
      "Wall time: 573 ms\n"
     ]
    }
   ],
   "source": [
    "%%time\n",
    "print(\"Rotating about Z by %5.2f degrees\" % rot)\n",
    "rotationAboutZdegrees = rot\n",
    "xyz_newrot = rotateXYaboutZ(xyz_, rotationAboutZdegrees)"
   ]
  },
  {
   "cell_type": "code",
   "execution_count": 26,
   "metadata": {},
   "outputs": [
    {
     "data": {
      "text/plain": [
       "array([ 21.0314266 ,  21.00208927,  20.97382497, ..., -20.24037259,\n",
       "       -20.21046909, -20.17974873])"
      ]
     },
     "execution_count": 26,
     "metadata": {},
     "output_type": "execute_result"
    }
   ],
   "source": [
    "xyz_newrot[:,0]"
   ]
  },
  {
   "cell_type": "code",
   "execution_count": 24,
   "metadata": {},
   "outputs": [
    {
     "data": {
      "text/plain": [
       "array([ 21.0314266 ,  21.00208927,  20.97382497, ..., -20.24037259,\n",
       "       -20.21046909, -20.17974873])"
      ]
     },
     "execution_count": 24,
     "metadata": {},
     "output_type": "execute_result"
    }
   ],
   "source": [
    "xyz[:,0]"
   ]
  },
  {
   "cell_type": "code",
   "execution_count": null,
   "metadata": {},
   "outputs": [],
   "source": []
  }
 ],
 "metadata": {
  "kernelspec": {
   "display_name": "Python 3",
   "language": "python",
   "name": "python3"
  },
  "language_info": {
   "codemirror_mode": {
    "name": "ipython",
    "version": 3
   },
   "file_extension": ".py",
   "mimetype": "text/x-python",
   "name": "python",
   "nbconvert_exporter": "python",
   "pygments_lexer": "ipython3",
   "version": "3.7.3"
  }
 },
 "nbformat": 4,
 "nbformat_minor": 2
}
