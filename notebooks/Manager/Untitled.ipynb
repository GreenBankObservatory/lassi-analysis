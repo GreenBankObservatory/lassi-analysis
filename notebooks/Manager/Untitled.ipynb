{
 "cells": [
  {
   "cell_type": "code",
   "execution_count": 4,
   "metadata": {},
   "outputs": [],
   "source": [
    "%matplotlib notebook\n",
    "%load_ext autoreload\n",
    "%autoreload 2"
   ]
  },
  {
   "cell_type": "code",
   "execution_count": 5,
   "metadata": {},
   "outputs": [],
   "source": [
    "import numpy as np\n",
    "import pylab as plt\n",
    "\n",
    "from astropy.io import fits\n",
    "\n",
    "import sys\n",
    "sys.path.append('/home/scratch/psalas/LASSI/lassi-analysis_v2')\n",
    "\n",
    "from parabolas import fitLeicaScan"
   ]
  },
  {
   "cell_type": "code",
   "execution_count": null,
   "metadata": {},
   "outputs": [],
   "source": [
    "def load_lassi_fits(filename):\n",
    "    \n",
    "    hdu = fits.open(filename)\n",
    "    data = hdu[1].data\n",
    "    x = data['X']\n",
    "    y = data['Y']\n",
    "    z = data['Z']\n",
    "    #i = data['INTENSIT']\n",
    "    #d = data['DMJD']\n",
    "    \n",
    "    return x,y,z#,i,d"
   ]
  },
  {
   "cell_type": "code",
   "execution_count": null,
   "metadata": {},
   "outputs": [],
   "source": [
    "n = 512\n",
    "path = '/home/gbtdata/TLASSI_200219/'"
   ]
  },
  {
   "cell_type": "code",
   "execution_count": null,
   "metadata": {},
   "outputs": [],
   "source": [
    "filename = \"{0}/LASSI/{1}\".format(path, \"2020_02_19_16:21:16.smoothed.fits\")"
   ]
  },
  {
   "cell_type": "code",
   "execution_count": null,
   "metadata": {},
   "outputs": [],
   "source": [
    "x,y,z,i,d = load_lassi_fits(filename)"
   ]
  },
  {
   "cell_type": "code",
   "execution_count": null,
   "metadata": {},
   "outputs": [],
   "source": [
    "fitLeicaScan(None, xyz=(x, y, z), N=n, rFilter=False, weights=None)"
   ]
  },
  {
   "cell_type": "code",
   "execution_count": null,
   "metadata": {},
   "outputs": [],
   "source": []
  }
 ],
 "metadata": {
  "kernelspec": {
   "display_name": "Python 3",
   "language": "python",
   "name": "python3"
  },
  "language_info": {
   "codemirror_mode": {
    "name": "ipython",
    "version": 3
   },
   "file_extension": ".py",
   "mimetype": "text/x-python",
   "name": "python",
   "nbconvert_exporter": "python",
   "pygments_lexer": "ipython3",
   "version": "3.7.5"
  }
 },
 "nbformat": 4,
 "nbformat_minor": 2
}
