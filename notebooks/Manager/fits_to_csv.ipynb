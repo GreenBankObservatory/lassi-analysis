{
 "cells": [
  {
   "cell_type": "code",
   "execution_count": 32,
   "metadata": {},
   "outputs": [],
   "source": [
    "import glob\n",
    "import numpy as np\n",
    "\n",
    "from os.path import isfile\n",
    "\n",
    "from astropy.io import fits\n",
    "from natsort import natsorted"
   ]
  },
  {
   "cell_type": "code",
   "execution_count": 2,
   "metadata": {},
   "outputs": [],
   "source": [
    "def load_lassi_fits(filename):\n",
    "    \n",
    "    hdu = fits.open(filename)\n",
    "    data = hdu[1].data\n",
    "    x = data['X']\n",
    "    y = data['Y']\n",
    "    z = data['Z']\n",
    "    i = data['INTENSIT']\n",
    "    d = data['DMJD']\n",
    "    \n",
    "    return x,y,z,i,d\n",
    "\n",
    "def fits_to_csv(filename, output):\n",
    "    \n",
    "    x, y, z, i, d = load_lassi_fits(filename)\n",
    "    np.savetxt(output, np.c_[x, y, z, i], delimiter=' ')"
   ]
  },
  {
   "cell_type": "code",
   "execution_count": 3,
   "metadata": {},
   "outputs": [],
   "source": [
    "#folder = \"/home/gbtdata/TLASSI_200219/\"\n",
    "folder = \"/home/gbtdata/TLASSI_200315/\"\n",
    "outputdir = \"/home/scratch/psalas/LASSI/15Mar\"\n",
    "reference_file = \"{0}/LASSI/{1}\".format(folder, \"2020_03_16_05:22:24.fits\")\n",
    "output = '{0}/2020_03_16_05:22:24.ptx'.format(outputdir)\n",
    "fits_to_csv(reference_file, output)"
   ]
  },
  {
   "cell_type": "code",
   "execution_count": 4,
   "metadata": {},
   "outputs": [],
   "source": [
    "reference_file = \"{0}/LASSI/{1}\".format(folder, \"2020_03_16_05:30:05.fits\")\n",
    "output = '{0}/2020_03_16_05:30:05.ptx'.format(outputdir)\n",
    "fits_to_csv(reference_file, output)"
   ]
  },
  {
   "cell_type": "code",
   "execution_count": 5,
   "metadata": {},
   "outputs": [],
   "source": [
    "reference_file = \"{0}/LASSI/{1}\".format(folder, \"2020_03_16_09:09:14.fits\")\n",
    "output = '{0}/2020_03_16_09:09:14.ptx'.format(outputdir)\n",
    "fits_to_csv(reference_file, output)"
   ]
  },
  {
   "cell_type": "code",
   "execution_count": 6,
   "metadata": {},
   "outputs": [],
   "source": [
    "reference_file = \"{0}/LASSI/{1}\".format(folder, \"2020_03_16_09:01:35.fits\")\n",
    "output = '{0}/2020_03_16_09:01:35.ptx'.format(outputdir)\n",
    "fits_to_csv(reference_file, output)"
   ]
  },
  {
   "cell_type": "code",
   "execution_count": 7,
   "metadata": {},
   "outputs": [],
   "source": [
    "reference_file = \"{0}/LASSI/{1}\".format(folder, \"2020_03_16_03:19:50.fits\")\n",
    "output = '{0}/2020_03_16_03:19:50.ptx'.format(outputdir)\n",
    "fits_to_csv(reference_file, output)"
   ]
  },
  {
   "cell_type": "code",
   "execution_count": 8,
   "metadata": {},
   "outputs": [],
   "source": [
    "reference_file = \"{0}/LASSI/{1}\".format(folder, \"2020_03_16_03:27:25.fits\")\n",
    "output = '{0}/2020_03_16_03:27:25.ptx'.format(outputdir)\n",
    "fits_to_csv(reference_file, output)"
   ]
  },
  {
   "cell_type": "code",
   "execution_count": 9,
   "metadata": {},
   "outputs": [],
   "source": [
    "reference_file = \"{0}/LASSI/{1}\".format(folder, \"2020_03_16_07:00:20.fits\")\n",
    "output = '{0}/2020_03_16_07:00:20.ptx'.format(outputdir)\n",
    "fits_to_csv(reference_file, output)"
   ]
  },
  {
   "cell_type": "code",
   "execution_count": 10,
   "metadata": {},
   "outputs": [],
   "source": [
    "reference_file = \"{0}/LASSI/{1}\".format(folder, \"2020_03_16_07:07:49.fits\")\n",
    "output = '{0}/2020_03_16_07:07:49.ptx'.format(outputdir)\n",
    "fits_to_csv(reference_file, output)"
   ]
  },
  {
   "cell_type": "code",
   "execution_count": 11,
   "metadata": {},
   "outputs": [],
   "source": [
    "reference_file = \"{0}/LASSI/{1}\".format(folder, \"2020_03_16_05:47:09.fits\")\n",
    "output = '{0}/2020_03_16_05:47:09.ptx'.format(outputdir)\n",
    "fits_to_csv(reference_file, output)"
   ]
  },
  {
   "cell_type": "code",
   "execution_count": 12,
   "metadata": {},
   "outputs": [],
   "source": [
    "reference_file = \"{0}/LASSI/{1}\".format(folder, \"2020_03_16_05:54:35.fits\")\n",
    "output = '{0}/2020_03_16_05:54:35.ptx'.format(outputdir)\n",
    "fits_to_csv(reference_file, output)"
   ]
  },
  {
   "cell_type": "code",
   "execution_count": 13,
   "metadata": {},
   "outputs": [],
   "source": [
    "reference_file = \"{0}/LASSI/{1}\".format(folder, \"2020_03_16_06:11:20.fits\")\n",
    "output = '{0}/2020_03_16_06:11:20.ptx'.format(outputdir)\n",
    "fits_to_csv(reference_file, output)"
   ]
  },
  {
   "cell_type": "code",
   "execution_count": 14,
   "metadata": {},
   "outputs": [],
   "source": [
    "reference_file = \"{0}/LASSI/{1}\".format(folder, \"2020_03_16_06:18:53.fits\")\n",
    "output = '{0}/2020_03_16_06:18:53.ptx'.format(outputdir)\n",
    "fits_to_csv(reference_file, output)"
   ]
  },
  {
   "cell_type": "code",
   "execution_count": 15,
   "metadata": {},
   "outputs": [],
   "source": [
    "reference_file = \"{0}/LASSI/{1}\".format(folder, \"2020_03_16_04:33:33.fits\")\n",
    "output = '{0}/2020_03_16_04:33:33.ptx'.format(outputdir)\n",
    "fits_to_csv(reference_file, output)"
   ]
  },
  {
   "cell_type": "code",
   "execution_count": 16,
   "metadata": {},
   "outputs": [],
   "source": [
    "reference_file = \"{0}/LASSI/{1}\".format(folder, \"2020_03_16_04:41:09.fits\")\n",
    "output = '{0}/2020_03_16_04:41:09.ptx'.format(outputdir)\n",
    "fits_to_csv(reference_file, output)"
   ]
  },
  {
   "cell_type": "code",
   "execution_count": 17,
   "metadata": {},
   "outputs": [],
   "source": [
    "reference_file = \"{0}/LASSI/{1}\".format(folder, \"2020_03_16_08:12:50.fits\")\n",
    "output = '{0}/2020_03_16_08:12:50.ptx'.format(outputdir)\n",
    "fits_to_csv(reference_file, output)"
   ]
  },
  {
   "cell_type": "code",
   "execution_count": 18,
   "metadata": {},
   "outputs": [],
   "source": [
    "reference_file = \"{0}/LASSI/{1}\".format(folder, \"2020_03_16_08:20:16.fits\")\n",
    "output = '{0}/2020_03_16_08:20:16.ptx'.format(outputdir)\n",
    "fits_to_csv(reference_file, output)"
   ]
  },
  {
   "cell_type": "code",
   "execution_count": 19,
   "metadata": {},
   "outputs": [],
   "source": [
    "reference_file = \"{0}/LASSI/{1}\".format(folder, \"2020_03_16_04:09:06.fits\")\n",
    "output = '{0}/2020_03_16_04:09:06.ptx'.format(outputdir)\n",
    "fits_to_csv(reference_file, output)"
   ]
  },
  {
   "cell_type": "code",
   "execution_count": 20,
   "metadata": {},
   "outputs": [],
   "source": [
    "reference_file = \"{0}/LASSI/{1}\".format(folder, \"2020_03_16_04:16:39.fits\")\n",
    "output = '{0}/2020_03_16_04:16:39.ptx'.format(outputdir)\n",
    "fits_to_csv(reference_file, output)"
   ]
  },
  {
   "cell_type": "code",
   "execution_count": 21,
   "metadata": {},
   "outputs": [],
   "source": [
    "reference_file = \"{0}/LASSI/{1}\".format(folder, \"2020_03_16_07:48:47.fits\")\n",
    "output = '{0}/2020_03_16_07:48:47.ptx'.format(outputdir)\n",
    "fits_to_csv(reference_file, output)"
   ]
  },
  {
   "cell_type": "code",
   "execution_count": 22,
   "metadata": {},
   "outputs": [],
   "source": [
    "reference_file = \"{0}/LASSI/{1}\".format(folder, \"2020_03_16_07:56:13.fits\")\n",
    "output = '{0}/2020_03_16_07:56:13.ptx'.format(outputdir)\n",
    "fits_to_csv(reference_file, output)"
   ]
  },
  {
   "cell_type": "code",
   "execution_count": 23,
   "metadata": {},
   "outputs": [],
   "source": [
    "reference_file = \"{0}/LASSI/{1}\".format(folder, \"2020_03_16_02:21:06.fits\")\n",
    "output = '{0}/2020_03_16_02:21:06.ptx'.format(outputdir)\n",
    "fits_to_csv(reference_file, output)"
   ]
  },
  {
   "cell_type": "code",
   "execution_count": 24,
   "metadata": {},
   "outputs": [],
   "source": [
    "reference_file = \"{0}/LASSI/{1}\".format(folder, \"2020_03_16_02:28:31.fits\")\n",
    "output = '{0}/2020_03_16_02:28:31.ptx'.format(outputdir)\n",
    "fits_to_csv(reference_file, output)"
   ]
  },
  {
   "cell_type": "code",
   "execution_count": 33,
   "metadata": {},
   "outputs": [],
   "source": [
    "fits_files = natsorted(glob.glob(\"{0}/LASSI/*.fits\".format(folder)))"
   ]
  },
  {
   "cell_type": "code",
   "execution_count": 36,
   "metadata": {},
   "outputs": [
    {
     "name": "stdout",
     "output_type": "stream",
     "text": [
      "Exporting: /home/scratch/psalas/LASSI/15Mar/2020_03_16_00:17:26.ptx\n",
      "File already exported.\n",
      "Exporting: /home/scratch/psalas/LASSI/15Mar/2020_03_16_00:51:09.ptx\n",
      "Exporting: /home/scratch/psalas/LASSI/15Mar/2020_03_16_00:55:30.ptx\n",
      "Exporting: /home/scratch/psalas/LASSI/15Mar/2020_03_16_01:00:19.ptx\n",
      "Exporting: /home/scratch/psalas/LASSI/15Mar/2020_03_16_01:04:36.ptx\n",
      "Exporting: /home/scratch/psalas/LASSI/15Mar/2020_03_16_01:12:16.ptx\n",
      "Exporting: /home/scratch/psalas/LASSI/15Mar/2020_03_16_01:48:22.ptx\n",
      "File already exported.\n",
      "File already exported.\n",
      "Exporting: /home/scratch/psalas/LASSI/15Mar/2020_03_16_02:38:25.ptx\n",
      "Exporting: /home/scratch/psalas/LASSI/15Mar/2020_03_16_02:45:43.ptx\n",
      "Exporting: /home/scratch/psalas/LASSI/15Mar/2020_03_16_02:54:59.ptx\n",
      "Exporting: /home/scratch/psalas/LASSI/15Mar/2020_03_16_03:02:51.ptx\n",
      "Exporting: /home/scratch/psalas/LASSI/15Mar/2020_03_16_03:12:22.ptx\n",
      "File already exported.\n",
      "File already exported.\n",
      "Exporting: /home/scratch/psalas/LASSI/15Mar/2020_03_16_03:36:54.ptx\n",
      "Exporting: /home/scratch/psalas/LASSI/15Mar/2020_03_16_03:44:25.ptx\n",
      "Exporting: /home/scratch/psalas/LASSI/15Mar/2020_03_16_03:52:01.ptx\n",
      "Exporting: /home/scratch/psalas/LASSI/15Mar/2020_03_16_04:01:34.ptx\n",
      "File already exported.\n",
      "File already exported.\n",
      "Exporting: /home/scratch/psalas/LASSI/15Mar/2020_03_16_04:26:00.ptx\n",
      "File already exported.\n",
      "File already exported.\n",
      "Exporting: /home/scratch/psalas/LASSI/15Mar/2020_03_16_04:50:28.ptx\n",
      "Exporting: /home/scratch/psalas/LASSI/15Mar/2020_03_16_04:58:03.ptx\n",
      "Exporting: /home/scratch/psalas/LASSI/15Mar/2020_03_16_05:05:43.ptx\n",
      "Exporting: /home/scratch/psalas/LASSI/15Mar/2020_03_16_05:14:55.ptx\n",
      "File already exported.\n",
      "File already exported.\n",
      "Exporting: /home/scratch/psalas/LASSI/15Mar/2020_03_16_05:39:31.ptx\n",
      "File already exported.\n",
      "File already exported.\n",
      "Exporting: /home/scratch/psalas/LASSI/15Mar/2020_03_16_06:03:57.ptx\n",
      "File already exported.\n",
      "File already exported.\n",
      "Exporting: /home/scratch/psalas/LASSI/15Mar/2020_03_16_06:28:11.ptx\n",
      "Exporting: /home/scratch/psalas/LASSI/15Mar/2020_03_16_06:35:42.ptx\n",
      "Exporting: /home/scratch/psalas/LASSI/15Mar/2020_03_16_06:43:17.ptx\n",
      "Exporting: /home/scratch/psalas/LASSI/15Mar/2020_03_16_06:52:45.ptx\n",
      "File already exported.\n",
      "File already exported.\n",
      "Exporting: /home/scratch/psalas/LASSI/15Mar/2020_03_16_07:17:15.ptx\n",
      "Exporting: /home/scratch/psalas/LASSI/15Mar/2020_03_16_07:24:39.ptx\n",
      "Exporting: /home/scratch/psalas/LASSI/15Mar/2020_03_16_07:32:07.ptx\n",
      "Exporting: /home/scratch/psalas/LASSI/15Mar/2020_03_16_07:41:29.ptx\n",
      "File already exported.\n",
      "File already exported.\n",
      "Exporting: /home/scratch/psalas/LASSI/15Mar/2020_03_16_08:05:30.ptx\n",
      "File already exported.\n",
      "File already exported.\n",
      "Exporting: /home/scratch/psalas/LASSI/15Mar/2020_03_16_08:29:35.ptx\n",
      "Exporting: /home/scratch/psalas/LASSI/15Mar/2020_03_16_08:37:03.ptx\n",
      "Exporting: /home/scratch/psalas/LASSI/15Mar/2020_03_16_08:44:29.ptx\n",
      "Exporting: /home/scratch/psalas/LASSI/15Mar/2020_03_16_08:54:00.ptx\n",
      "File already exported.\n",
      "File already exported.\n",
      "Exporting: /home/scratch/psalas/LASSI/15Mar/2020_03_16_09:18:36.ptx\n",
      "Exporting: /home/scratch/psalas/LASSI/15Mar/2020_03_16_09:26:07.ptx\n",
      "Exporting: /home/scratch/psalas/LASSI/15Mar/2020_03_16_09:33:41.ptx\n",
      "Exporting: /home/scratch/psalas/LASSI/15Mar/2020_03_16_10:26:04.ptx\n",
      "Exporting: /home/scratch/psalas/LASSI/15Mar/2020_03_16_10:50:32.ptx\n",
      "Exporting: /home/scratch/psalas/LASSI/15Mar/2020_03_16_11:03:14.ptx\n",
      "Exporting: /home/scratch/psalas/LASSI/15Mar/2020_03_16_11:40:51.ptx\n",
      "Exporting: /home/scratch/psalas/LASSI/15Mar/2020_03_16_11:44:44.ptx\n",
      "Exporting: /home/scratch/psalas/LASSI/15Mar/2020_03_16_11:48:49.ptx\n",
      "Exporting: /home/scratch/psalas/LASSI/15Mar/2020_03_16_11:57:36.ptx\n",
      "Exporting: /home/scratch/psalas/LASSI/15Mar/2020_03_16_12:06:38.ptx\n"
     ]
    }
   ],
   "source": [
    "for i,fn in enumerate(fits_files):\n",
    "    if \"zernike\" in fn or \"smoothed\" in fn:\n",
    "        continue\n",
    "    else:\n",
    "        dt = fn.split('/')[-1].split('.')[0]\n",
    "        ptxFile = '{0}/{1}.ptx'.format(outputdir, dt)\n",
    "        if not isfile(ptxFile):\n",
    "            print(\"Exporting: {}\".format(ptxFile))\n",
    "            fits_to_csv(fn, ptxFile)\n",
    "        else:\n",
    "            print(\"File already exported.\")"
   ]
  },
  {
   "cell_type": "code",
   "execution_count": null,
   "metadata": {},
   "outputs": [],
   "source": []
  }
 ],
 "metadata": {
  "kernelspec": {
   "display_name": "Python 3",
   "language": "python",
   "name": "python3"
  },
  "language_info": {
   "codemirror_mode": {
    "name": "ipython",
    "version": 3
   },
   "file_extension": ".py",
   "mimetype": "text/x-python",
   "name": "python",
   "nbconvert_exporter": "python",
   "pygments_lexer": "ipython3",
   "version": "3.7.5"
  }
 },
 "nbformat": 4,
 "nbformat_minor": 2
}
